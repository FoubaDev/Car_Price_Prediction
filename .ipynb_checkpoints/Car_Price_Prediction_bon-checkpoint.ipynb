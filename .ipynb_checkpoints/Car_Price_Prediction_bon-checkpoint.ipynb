{
 "cells": [
  {
   "cell_type": "markdown",
   "id": "2f6d29d9",
   "metadata": {},
   "source": [
    "# Prédiction du prix des voitures à travers une application Web\n",
    "À partir des données concernant les voitures, faisons un modèle de Machine Learning permettant de prédire le prix des voitures et déployer ce modèle."
   ]
  },
  {
   "cell_type": "markdown",
   "id": "2c0f9798",
   "metadata": {},
   "source": [
    "## 1. Lecture de données"
   ]
  },
  {
   "cell_type": "code",
   "execution_count": 1,
   "id": "04047436",
   "metadata": {},
   "outputs": [],
   "source": [
    "import numpy as np\n",
    "import pandas as pd\n",
    "import matplotlib.pyplot as plt\n",
    "import seaborn as sns\n",
    "from sklearn.model_selection import train_test_split\n",
    "from sklearn.linear_model import LinearRegression\n",
    "import warnings\n",
    "warnings.filterwarnings(\"ignore\")"
   ]
  },
  {
   "cell_type": "code",
   "execution_count": 2,
   "id": "4b277f51",
   "metadata": {},
   "outputs": [
    {
     "data": {
      "text/html": [
       "<div>\n",
       "<style scoped>\n",
       "    .dataframe tbody tr th:only-of-type {\n",
       "        vertical-align: middle;\n",
       "    }\n",
       "\n",
       "    .dataframe tbody tr th {\n",
       "        vertical-align: top;\n",
       "    }\n",
       "\n",
       "    .dataframe thead th {\n",
       "        text-align: right;\n",
       "    }\n",
       "</style>\n",
       "<table border=\"1\" class=\"dataframe\">\n",
       "  <thead>\n",
       "    <tr style=\"text-align: right;\">\n",
       "      <th></th>\n",
       "      <th>ID</th>\n",
       "      <th>Price</th>\n",
       "      <th>Levy</th>\n",
       "      <th>Manufacturer</th>\n",
       "      <th>Model</th>\n",
       "      <th>Prod. year</th>\n",
       "      <th>Category</th>\n",
       "      <th>Leather interior</th>\n",
       "      <th>Fuel type</th>\n",
       "      <th>Engine volume</th>\n",
       "      <th>Mileage</th>\n",
       "      <th>Cylinders</th>\n",
       "      <th>Gear box type</th>\n",
       "      <th>Drive wheels</th>\n",
       "      <th>Doors</th>\n",
       "      <th>Wheel</th>\n",
       "      <th>Color</th>\n",
       "      <th>Airbags</th>\n",
       "    </tr>\n",
       "  </thead>\n",
       "  <tbody>\n",
       "    <tr>\n",
       "      <th>0</th>\n",
       "      <td>45654403</td>\n",
       "      <td>13328</td>\n",
       "      <td>1399</td>\n",
       "      <td>LEXUS</td>\n",
       "      <td>RX 450</td>\n",
       "      <td>2010</td>\n",
       "      <td>Jeep</td>\n",
       "      <td>Yes</td>\n",
       "      <td>Hybrid</td>\n",
       "      <td>3.5</td>\n",
       "      <td>186005 km</td>\n",
       "      <td>6</td>\n",
       "      <td>Automatic</td>\n",
       "      <td>4x4</td>\n",
       "      <td>04-May</td>\n",
       "      <td>Left wheel</td>\n",
       "      <td>Silver</td>\n",
       "      <td>12</td>\n",
       "    </tr>\n",
       "    <tr>\n",
       "      <th>1</th>\n",
       "      <td>44731507</td>\n",
       "      <td>16621</td>\n",
       "      <td>1018</td>\n",
       "      <td>CHEVROLET</td>\n",
       "      <td>Equinox</td>\n",
       "      <td>2011</td>\n",
       "      <td>Jeep</td>\n",
       "      <td>No</td>\n",
       "      <td>Petrol</td>\n",
       "      <td>3.0</td>\n",
       "      <td>192000 km</td>\n",
       "      <td>6</td>\n",
       "      <td>Tiptronic</td>\n",
       "      <td>4x4</td>\n",
       "      <td>04-May</td>\n",
       "      <td>Left wheel</td>\n",
       "      <td>Black</td>\n",
       "      <td>8</td>\n",
       "    </tr>\n",
       "    <tr>\n",
       "      <th>2</th>\n",
       "      <td>45774419</td>\n",
       "      <td>8467</td>\n",
       "      <td>-</td>\n",
       "      <td>HONDA</td>\n",
       "      <td>FIT</td>\n",
       "      <td>2006</td>\n",
       "      <td>Hatchback</td>\n",
       "      <td>No</td>\n",
       "      <td>Petrol</td>\n",
       "      <td>1.3</td>\n",
       "      <td>200000 km</td>\n",
       "      <td>4</td>\n",
       "      <td>Variator</td>\n",
       "      <td>Front</td>\n",
       "      <td>04-May</td>\n",
       "      <td>Right-hand drive</td>\n",
       "      <td>Black</td>\n",
       "      <td>2</td>\n",
       "    </tr>\n",
       "    <tr>\n",
       "      <th>3</th>\n",
       "      <td>45769185</td>\n",
       "      <td>3607</td>\n",
       "      <td>862</td>\n",
       "      <td>FORD</td>\n",
       "      <td>Escape</td>\n",
       "      <td>2011</td>\n",
       "      <td>Jeep</td>\n",
       "      <td>Yes</td>\n",
       "      <td>Hybrid</td>\n",
       "      <td>2.5</td>\n",
       "      <td>168966 km</td>\n",
       "      <td>4</td>\n",
       "      <td>Automatic</td>\n",
       "      <td>4x4</td>\n",
       "      <td>04-May</td>\n",
       "      <td>Left wheel</td>\n",
       "      <td>White</td>\n",
       "      <td>0</td>\n",
       "    </tr>\n",
       "    <tr>\n",
       "      <th>4</th>\n",
       "      <td>45809263</td>\n",
       "      <td>11726</td>\n",
       "      <td>446</td>\n",
       "      <td>HONDA</td>\n",
       "      <td>FIT</td>\n",
       "      <td>2014</td>\n",
       "      <td>Hatchback</td>\n",
       "      <td>Yes</td>\n",
       "      <td>Petrol</td>\n",
       "      <td>1.3</td>\n",
       "      <td>91901 km</td>\n",
       "      <td>4</td>\n",
       "      <td>Automatic</td>\n",
       "      <td>Front</td>\n",
       "      <td>04-May</td>\n",
       "      <td>Left wheel</td>\n",
       "      <td>Silver</td>\n",
       "      <td>4</td>\n",
       "    </tr>\n",
       "    <tr>\n",
       "      <th>5</th>\n",
       "      <td>45802912</td>\n",
       "      <td>39493</td>\n",
       "      <td>891</td>\n",
       "      <td>HYUNDAI</td>\n",
       "      <td>Santa FE</td>\n",
       "      <td>2016</td>\n",
       "      <td>Jeep</td>\n",
       "      <td>Yes</td>\n",
       "      <td>Diesel</td>\n",
       "      <td>2.0</td>\n",
       "      <td>160931 km</td>\n",
       "      <td>4</td>\n",
       "      <td>Automatic</td>\n",
       "      <td>Front</td>\n",
       "      <td>04-May</td>\n",
       "      <td>Left wheel</td>\n",
       "      <td>White</td>\n",
       "      <td>4</td>\n",
       "    </tr>\n",
       "    <tr>\n",
       "      <th>6</th>\n",
       "      <td>45656768</td>\n",
       "      <td>1803</td>\n",
       "      <td>761</td>\n",
       "      <td>TOYOTA</td>\n",
       "      <td>Prius</td>\n",
       "      <td>2010</td>\n",
       "      <td>Hatchback</td>\n",
       "      <td>Yes</td>\n",
       "      <td>Hybrid</td>\n",
       "      <td>1.8</td>\n",
       "      <td>258909 km</td>\n",
       "      <td>4</td>\n",
       "      <td>Automatic</td>\n",
       "      <td>Front</td>\n",
       "      <td>04-May</td>\n",
       "      <td>Left wheel</td>\n",
       "      <td>White</td>\n",
       "      <td>12</td>\n",
       "    </tr>\n",
       "    <tr>\n",
       "      <th>7</th>\n",
       "      <td>45816158</td>\n",
       "      <td>549</td>\n",
       "      <td>751</td>\n",
       "      <td>HYUNDAI</td>\n",
       "      <td>Sonata</td>\n",
       "      <td>2013</td>\n",
       "      <td>Sedan</td>\n",
       "      <td>Yes</td>\n",
       "      <td>Petrol</td>\n",
       "      <td>2.4</td>\n",
       "      <td>216118 km</td>\n",
       "      <td>4</td>\n",
       "      <td>Automatic</td>\n",
       "      <td>Front</td>\n",
       "      <td>04-May</td>\n",
       "      <td>Left wheel</td>\n",
       "      <td>Grey</td>\n",
       "      <td>12</td>\n",
       "    </tr>\n",
       "    <tr>\n",
       "      <th>8</th>\n",
       "      <td>45641395</td>\n",
       "      <td>1098</td>\n",
       "      <td>394</td>\n",
       "      <td>TOYOTA</td>\n",
       "      <td>Camry</td>\n",
       "      <td>2014</td>\n",
       "      <td>Sedan</td>\n",
       "      <td>Yes</td>\n",
       "      <td>Hybrid</td>\n",
       "      <td>2.5</td>\n",
       "      <td>398069 km</td>\n",
       "      <td>4</td>\n",
       "      <td>Automatic</td>\n",
       "      <td>Front</td>\n",
       "      <td>04-May</td>\n",
       "      <td>Left wheel</td>\n",
       "      <td>Black</td>\n",
       "      <td>12</td>\n",
       "    </tr>\n",
       "    <tr>\n",
       "      <th>9</th>\n",
       "      <td>45756839</td>\n",
       "      <td>26657</td>\n",
       "      <td>-</td>\n",
       "      <td>LEXUS</td>\n",
       "      <td>RX 350</td>\n",
       "      <td>2007</td>\n",
       "      <td>Jeep</td>\n",
       "      <td>Yes</td>\n",
       "      <td>Petrol</td>\n",
       "      <td>3.5</td>\n",
       "      <td>128500 km</td>\n",
       "      <td>6</td>\n",
       "      <td>Automatic</td>\n",
       "      <td>4x4</td>\n",
       "      <td>04-May</td>\n",
       "      <td>Left wheel</td>\n",
       "      <td>Silver</td>\n",
       "      <td>12</td>\n",
       "    </tr>\n",
       "  </tbody>\n",
       "</table>\n",
       "</div>"
      ],
      "text/plain": [
       "         ID  Price  Levy Manufacturer     Model  Prod. year   Category  \\\n",
       "0  45654403  13328  1399        LEXUS    RX 450        2010       Jeep   \n",
       "1  44731507  16621  1018    CHEVROLET   Equinox        2011       Jeep   \n",
       "2  45774419   8467     -        HONDA       FIT        2006  Hatchback   \n",
       "3  45769185   3607   862         FORD    Escape        2011       Jeep   \n",
       "4  45809263  11726   446        HONDA       FIT        2014  Hatchback   \n",
       "5  45802912  39493   891      HYUNDAI  Santa FE        2016       Jeep   \n",
       "6  45656768   1803   761       TOYOTA     Prius        2010  Hatchback   \n",
       "7  45816158    549   751      HYUNDAI    Sonata        2013      Sedan   \n",
       "8  45641395   1098   394       TOYOTA     Camry        2014      Sedan   \n",
       "9  45756839  26657     -        LEXUS    RX 350        2007       Jeep   \n",
       "\n",
       "  Leather interior Fuel type  Engine volume    Mileage  Cylinders  \\\n",
       "0              Yes    Hybrid            3.5  186005 km          6   \n",
       "1               No    Petrol            3.0  192000 km          6   \n",
       "2               No    Petrol            1.3  200000 km          4   \n",
       "3              Yes    Hybrid            2.5  168966 km          4   \n",
       "4              Yes    Petrol            1.3   91901 km          4   \n",
       "5              Yes    Diesel            2.0  160931 km          4   \n",
       "6              Yes    Hybrid            1.8  258909 km          4   \n",
       "7              Yes    Petrol            2.4  216118 km          4   \n",
       "8              Yes    Hybrid            2.5  398069 km          4   \n",
       "9              Yes    Petrol            3.5  128500 km          6   \n",
       "\n",
       "  Gear box type Drive wheels   Doors             Wheel   Color  Airbags  \n",
       "0     Automatic          4x4  04-May        Left wheel  Silver       12  \n",
       "1     Tiptronic          4x4  04-May        Left wheel   Black        8  \n",
       "2      Variator        Front  04-May  Right-hand drive   Black        2  \n",
       "3     Automatic          4x4  04-May        Left wheel   White        0  \n",
       "4     Automatic        Front  04-May        Left wheel  Silver        4  \n",
       "5     Automatic        Front  04-May        Left wheel   White        4  \n",
       "6     Automatic        Front  04-May        Left wheel   White       12  \n",
       "7     Automatic        Front  04-May        Left wheel    Grey       12  \n",
       "8     Automatic        Front  04-May        Left wheel   Black       12  \n",
       "9     Automatic          4x4  04-May        Left wheel  Silver       12  "
      ]
     },
     "execution_count": 2,
     "metadata": {},
     "output_type": "execute_result"
    }
   ],
   "source": [
    "df = pd.read_csv(\"car_price_prediction.csv\")\n",
    "df.head(10)"
   ]
  },
  {
   "cell_type": "code",
   "execution_count": 3,
   "id": "a8be01d4",
   "metadata": {},
   "outputs": [
    {
     "data": {
      "text/plain": [
       "ID                    int64\n",
       "Price                 int64\n",
       "Levy                 object\n",
       "Manufacturer         object\n",
       "Model                object\n",
       "Prod. year            int64\n",
       "Category             object\n",
       "Leather interior     object\n",
       "Fuel type            object\n",
       "Engine volume       float64\n",
       "Mileage              object\n",
       "Cylinders             int64\n",
       "Gear box type        object\n",
       "Drive wheels         object\n",
       "Doors                object\n",
       "Wheel                object\n",
       "Color                object\n",
       "Airbags               int64\n",
       "dtype: object"
      ]
     },
     "execution_count": 3,
     "metadata": {},
     "output_type": "execute_result"
    }
   ],
   "source": [
    "df.dtypes"
   ]
  },
  {
   "cell_type": "code",
   "execution_count": 4,
   "id": "35846811",
   "metadata": {},
   "outputs": [
    {
     "data": {
      "text/html": [
       "<div>\n",
       "<style scoped>\n",
       "    .dataframe tbody tr th:only-of-type {\n",
       "        vertical-align: middle;\n",
       "    }\n",
       "\n",
       "    .dataframe tbody tr th {\n",
       "        vertical-align: top;\n",
       "    }\n",
       "\n",
       "    .dataframe thead th {\n",
       "        text-align: right;\n",
       "    }\n",
       "</style>\n",
       "<table border=\"1\" class=\"dataframe\">\n",
       "  <thead>\n",
       "    <tr style=\"text-align: right;\">\n",
       "      <th></th>\n",
       "      <th>ID</th>\n",
       "      <th>Price</th>\n",
       "      <th>Prod. year</th>\n",
       "      <th>Engine volume</th>\n",
       "      <th>Cylinders</th>\n",
       "      <th>Airbags</th>\n",
       "    </tr>\n",
       "  </thead>\n",
       "  <tbody>\n",
       "    <tr>\n",
       "      <th>count</th>\n",
       "      <td>1.923700e+04</td>\n",
       "      <td>1.923700e+04</td>\n",
       "      <td>19237.000000</td>\n",
       "      <td>19237.000000</td>\n",
       "      <td>19237.000000</td>\n",
       "      <td>19237.000000</td>\n",
       "    </tr>\n",
       "    <tr>\n",
       "      <th>mean</th>\n",
       "      <td>4.557654e+07</td>\n",
       "      <td>1.855593e+04</td>\n",
       "      <td>2010.912824</td>\n",
       "      <td>2.307990</td>\n",
       "      <td>4.582991</td>\n",
       "      <td>6.582627</td>\n",
       "    </tr>\n",
       "    <tr>\n",
       "      <th>std</th>\n",
       "      <td>9.365914e+05</td>\n",
       "      <td>1.905813e+05</td>\n",
       "      <td>5.668673</td>\n",
       "      <td>0.877805</td>\n",
       "      <td>1.199933</td>\n",
       "      <td>4.320168</td>\n",
       "    </tr>\n",
       "    <tr>\n",
       "      <th>min</th>\n",
       "      <td>2.074688e+07</td>\n",
       "      <td>1.000000e+00</td>\n",
       "      <td>1939.000000</td>\n",
       "      <td>0.000000</td>\n",
       "      <td>1.000000</td>\n",
       "      <td>0.000000</td>\n",
       "    </tr>\n",
       "    <tr>\n",
       "      <th>25%</th>\n",
       "      <td>4.569837e+07</td>\n",
       "      <td>5.331000e+03</td>\n",
       "      <td>2009.000000</td>\n",
       "      <td>1.800000</td>\n",
       "      <td>4.000000</td>\n",
       "      <td>4.000000</td>\n",
       "    </tr>\n",
       "    <tr>\n",
       "      <th>50%</th>\n",
       "      <td>4.577231e+07</td>\n",
       "      <td>1.317200e+04</td>\n",
       "      <td>2012.000000</td>\n",
       "      <td>2.000000</td>\n",
       "      <td>4.000000</td>\n",
       "      <td>6.000000</td>\n",
       "    </tr>\n",
       "    <tr>\n",
       "      <th>75%</th>\n",
       "      <td>4.580204e+07</td>\n",
       "      <td>2.207500e+04</td>\n",
       "      <td>2015.000000</td>\n",
       "      <td>2.500000</td>\n",
       "      <td>4.000000</td>\n",
       "      <td>12.000000</td>\n",
       "    </tr>\n",
       "    <tr>\n",
       "      <th>max</th>\n",
       "      <td>4.581665e+07</td>\n",
       "      <td>2.630750e+07</td>\n",
       "      <td>2020.000000</td>\n",
       "      <td>20.000000</td>\n",
       "      <td>16.000000</td>\n",
       "      <td>16.000000</td>\n",
       "    </tr>\n",
       "  </tbody>\n",
       "</table>\n",
       "</div>"
      ],
      "text/plain": [
       "                 ID         Price    Prod. year  Engine volume     Cylinders  \\\n",
       "count  1.923700e+04  1.923700e+04  19237.000000   19237.000000  19237.000000   \n",
       "mean   4.557654e+07  1.855593e+04   2010.912824       2.307990      4.582991   \n",
       "std    9.365914e+05  1.905813e+05      5.668673       0.877805      1.199933   \n",
       "min    2.074688e+07  1.000000e+00   1939.000000       0.000000      1.000000   \n",
       "25%    4.569837e+07  5.331000e+03   2009.000000       1.800000      4.000000   \n",
       "50%    4.577231e+07  1.317200e+04   2012.000000       2.000000      4.000000   \n",
       "75%    4.580204e+07  2.207500e+04   2015.000000       2.500000      4.000000   \n",
       "max    4.581665e+07  2.630750e+07   2020.000000      20.000000     16.000000   \n",
       "\n",
       "            Airbags  \n",
       "count  19237.000000  \n",
       "mean       6.582627  \n",
       "std        4.320168  \n",
       "min        0.000000  \n",
       "25%        4.000000  \n",
       "50%        6.000000  \n",
       "75%       12.000000  \n",
       "max       16.000000  "
      ]
     },
     "execution_count": 4,
     "metadata": {},
     "output_type": "execute_result"
    }
   ],
   "source": [
    "df.describe()"
   ]
  },
  {
   "cell_type": "markdown",
   "id": "d0453aa7",
   "metadata": {},
   "source": [
    "## 2. Analyse Exploratoire et Visualisation des données"
   ]
  },
  {
   "cell_type": "code",
   "execution_count": 5,
   "id": "c8c9be58",
   "metadata": {},
   "outputs": [],
   "source": [
    "import matplotlib.pyplot as plt\n",
    "import seaborn as sns\n",
    "\n"
   ]
  },
  {
   "cell_type": "code",
   "execution_count": 6,
   "id": "e112aa7f",
   "metadata": {},
   "outputs": [
    {
     "data": {
      "image/png": "[encoded data removed]",
      "text/plain": [
       "<Figure size 1500x1500 with 6 Axes>"
      ]
     },
     "metadata": {},
     "output_type": "display_data"
    }
   ],
   "source": [
    "df.hist(figsize=(15,15))\n",
    "plt.tight_layout()\n",
    "plt.show()"
   ]
  },
  {
   "cell_type": "code",
   "execution_count": 7,
   "id": "84c5255f",
   "metadata": {},
   "outputs": [
    {
     "data": {
      "image/png": "[encoded data removed]",
      "text/plain": [
       "<Figure size 2000x1500 with 1 Axes>"
      ]
     },
     "metadata": {},
     "output_type": "display_data"
    }
   ],
   "source": [
    "plt.figure(figsize = (20, 15))\n",
    "sns.countplot(y = df['Manufacturer'])\n",
    "plt.title(\"Les fabricants de car avec leur marque\", fontsize = 20)\n",
    "plt.show()"
   ]
  },
  {
   "cell_type": "code",
   "execution_count": 8,
   "id": "cafca15d",
   "metadata": {},
   "outputs": [
    {
     "data": {
      "text/html": [
       "<div>\n",
       "<style scoped>\n",
       "    .dataframe tbody tr th:only-of-type {\n",
       "        vertical-align: middle;\n",
       "    }\n",
       "\n",
       "    .dataframe tbody tr th {\n",
       "        vertical-align: top;\n",
       "    }\n",
       "\n",
       "    .dataframe thead th {\n",
       "        text-align: right;\n",
       "    }\n",
       "</style>\n",
       "<table border=\"1\" class=\"dataframe\">\n",
       "  <thead>\n",
       "    <tr style=\"text-align: right;\">\n",
       "      <th></th>\n",
       "      <th>ID</th>\n",
       "      <th>Price</th>\n",
       "      <th>Levy</th>\n",
       "      <th>Manufacturer</th>\n",
       "      <th>Model</th>\n",
       "      <th>Prod. year</th>\n",
       "      <th>Category</th>\n",
       "      <th>Leather interior</th>\n",
       "      <th>Fuel type</th>\n",
       "      <th>Engine volume</th>\n",
       "      <th>Mileage</th>\n",
       "      <th>Cylinders</th>\n",
       "      <th>Gear box type</th>\n",
       "      <th>Drive wheels</th>\n",
       "      <th>Doors</th>\n",
       "      <th>Wheel</th>\n",
       "      <th>Color</th>\n",
       "      <th>Airbags</th>\n",
       "    </tr>\n",
       "  </thead>\n",
       "  <tbody>\n",
       "    <tr>\n",
       "      <th>0</th>\n",
       "      <td>45654403</td>\n",
       "      <td>13328</td>\n",
       "      <td>1399</td>\n",
       "      <td>LEXUS</td>\n",
       "      <td>RX 450</td>\n",
       "      <td>2010</td>\n",
       "      <td>Jeep</td>\n",
       "      <td>Yes</td>\n",
       "      <td>Hybrid</td>\n",
       "      <td>3.5</td>\n",
       "      <td>186005 km</td>\n",
       "      <td>6</td>\n",
       "      <td>Automatic</td>\n",
       "      <td>4x4</td>\n",
       "      <td>04-May</td>\n",
       "      <td>Left wheel</td>\n",
       "      <td>Silver</td>\n",
       "      <td>12</td>\n",
       "    </tr>\n",
       "    <tr>\n",
       "      <th>1</th>\n",
       "      <td>44731507</td>\n",
       "      <td>16621</td>\n",
       "      <td>1018</td>\n",
       "      <td>CHEVROLET</td>\n",
       "      <td>Equinox</td>\n",
       "      <td>2011</td>\n",
       "      <td>Jeep</td>\n",
       "      <td>No</td>\n",
       "      <td>Petrol</td>\n",
       "      <td>3.0</td>\n",
       "      <td>192000 km</td>\n",
       "      <td>6</td>\n",
       "      <td>Tiptronic</td>\n",
       "      <td>4x4</td>\n",
       "      <td>04-May</td>\n",
       "      <td>Left wheel</td>\n",
       "      <td>Black</td>\n",
       "      <td>8</td>\n",
       "    </tr>\n",
       "    <tr>\n",
       "      <th>2</th>\n",
       "      <td>45774419</td>\n",
       "      <td>8467</td>\n",
       "      <td>-</td>\n",
       "      <td>HONDA</td>\n",
       "      <td>FIT</td>\n",
       "      <td>2006</td>\n",
       "      <td>Hatchback</td>\n",
       "      <td>No</td>\n",
       "      <td>Petrol</td>\n",
       "      <td>1.3</td>\n",
       "      <td>200000 km</td>\n",
       "      <td>4</td>\n",
       "      <td>Variator</td>\n",
       "      <td>Front</td>\n",
       "      <td>04-May</td>\n",
       "      <td>Right-hand drive</td>\n",
       "      <td>Black</td>\n",
       "      <td>2</td>\n",
       "    </tr>\n",
       "    <tr>\n",
       "      <th>3</th>\n",
       "      <td>45769185</td>\n",
       "      <td>3607</td>\n",
       "      <td>862</td>\n",
       "      <td>FORD</td>\n",
       "      <td>Escape</td>\n",
       "      <td>2011</td>\n",
       "      <td>Jeep</td>\n",
       "      <td>Yes</td>\n",
       "      <td>Hybrid</td>\n",
       "      <td>2.5</td>\n",
       "      <td>168966 km</td>\n",
       "      <td>4</td>\n",
       "      <td>Automatic</td>\n",
       "      <td>4x4</td>\n",
       "      <td>04-May</td>\n",
       "      <td>Left wheel</td>\n",
       "      <td>White</td>\n",
       "      <td>0</td>\n",
       "    </tr>\n",
       "    <tr>\n",
       "      <th>4</th>\n",
       "      <td>45809263</td>\n",
       "      <td>11726</td>\n",
       "      <td>446</td>\n",
       "      <td>HONDA</td>\n",
       "      <td>FIT</td>\n",
       "      <td>2014</td>\n",
       "      <td>Hatchback</td>\n",
       "      <td>Yes</td>\n",
       "      <td>Petrol</td>\n",
       "      <td>1.3</td>\n",
       "      <td>91901 km</td>\n",
       "      <td>4</td>\n",
       "      <td>Automatic</td>\n",
       "      <td>Front</td>\n",
       "      <td>04-May</td>\n",
       "      <td>Left wheel</td>\n",
       "      <td>Silver</td>\n",
       "      <td>4</td>\n",
       "    </tr>\n",
       "  </tbody>\n",
       "</table>\n",
       "</div>"
      ],
      "text/plain": [
       "         ID  Price  Levy Manufacturer    Model  Prod. year   Category  \\\n",
       "0  45654403  13328  1399        LEXUS   RX 450        2010       Jeep   \n",
       "1  44731507  16621  1018    CHEVROLET  Equinox        2011       Jeep   \n",
       "2  45774419   8467     -        HONDA      FIT        2006  Hatchback   \n",
       "3  45769185   3607   862         FORD   Escape        2011       Jeep   \n",
       "4  45809263  11726   446        HONDA      FIT        2014  Hatchback   \n",
       "\n",
       "  Leather interior Fuel type  Engine volume    Mileage  Cylinders  \\\n",
       "0              Yes    Hybrid            3.5  186005 km          6   \n",
       "1               No    Petrol            3.0  192000 km          6   \n",
       "2               No    Petrol            1.3  200000 km          4   \n",
       "3              Yes    Hybrid            2.5  168966 km          4   \n",
       "4              Yes    Petrol            1.3   91901 km          4   \n",
       "\n",
       "  Gear box type Drive wheels   Doors             Wheel   Color  Airbags  \n",
       "0     Automatic          4x4  04-May        Left wheel  Silver       12  \n",
       "1     Tiptronic          4x4  04-May        Left wheel   Black        8  \n",
       "2      Variator        Front  04-May  Right-hand drive   Black        2  \n",
       "3     Automatic          4x4  04-May        Left wheel   White        0  \n",
       "4     Automatic        Front  04-May        Left wheel  Silver        4  "
      ]
     },
     "execution_count": 8,
     "metadata": {},
     "output_type": "execute_result"
    }
   ],
   "source": [
    "df.head()"
   ]
  },
  {
   "cell_type": "markdown",
   "id": "90ecda54",
   "metadata": {},
   "source": [
    "Supprimons la colonne ID"
   ]
  },
  {
   "cell_type": "code",
   "execution_count": 9,
   "id": "155402bc",
   "metadata": {},
   "outputs": [],
   "source": [
    "df.drop('ID', inplace=True, axis=1)"
   ]
  },
  {
   "cell_type": "code",
   "execution_count": 10,
   "id": "f1be107e",
   "metadata": {},
   "outputs": [
    {
     "data": {
      "text/plain": [
       "\"df.drop('Doors', inplace=True, axis=1)\\ndf.drop('Category', inplace=True, axis=1)    \\ndf.drop('Leather interior', inplace=True, axis=1)\\n#df.drop('Cylinders', inplace=True, axis=1)\\n\\n\\n\""
      ]
     },
     "execution_count": 10,
     "metadata": {},
     "output_type": "execute_result"
    }
   ],
   "source": [
    "\"\"\"df.drop('Doors', inplace=True, axis=1)\n",
    "df.drop('Category', inplace=True, axis=1)    \n",
    "df.drop('Leather interior', inplace=True, axis=1)\n",
    "#df.drop('Cylinders', inplace=True, axis=1)\n",
    "\n",
    "\n",
    "\"\"\""
   ]
  },
  {
   "cell_type": "code",
   "execution_count": 11,
   "id": "7c734f7b",
   "metadata": {},
   "outputs": [
    {
     "data": {
      "text/html": [
       "<div>\n",
       "<style scoped>\n",
       "    .dataframe tbody tr th:only-of-type {\n",
       "        vertical-align: middle;\n",
       "    }\n",
       "\n",
       "    .dataframe tbody tr th {\n",
       "        vertical-align: top;\n",
       "    }\n",
       "\n",
       "    .dataframe thead th {\n",
       "        text-align: right;\n",
       "    }\n",
       "</style>\n",
       "<table border=\"1\" class=\"dataframe\">\n",
       "  <thead>\n",
       "    <tr style=\"text-align: right;\">\n",
       "      <th></th>\n",
       "      <th>Price</th>\n",
       "      <th>Levy</th>\n",
       "      <th>Manufacturer</th>\n",
       "      <th>Model</th>\n",
       "      <th>Prod. year</th>\n",
       "      <th>Category</th>\n",
       "      <th>Leather interior</th>\n",
       "      <th>Fuel type</th>\n",
       "      <th>Engine volume</th>\n",
       "      <th>Mileage</th>\n",
       "      <th>Cylinders</th>\n",
       "      <th>Gear box type</th>\n",
       "      <th>Drive wheels</th>\n",
       "      <th>Doors</th>\n",
       "      <th>Wheel</th>\n",
       "      <th>Color</th>\n",
       "      <th>Airbags</th>\n",
       "    </tr>\n",
       "  </thead>\n",
       "  <tbody>\n",
       "    <tr>\n",
       "      <th>0</th>\n",
       "      <td>13328</td>\n",
       "      <td>1399</td>\n",
       "      <td>LEXUS</td>\n",
       "      <td>RX 450</td>\n",
       "      <td>2010</td>\n",
       "      <td>Jeep</td>\n",
       "      <td>Yes</td>\n",
       "      <td>Hybrid</td>\n",
       "      <td>3.5</td>\n",
       "      <td>186005 km</td>\n",
       "      <td>6</td>\n",
       "      <td>Automatic</td>\n",
       "      <td>4x4</td>\n",
       "      <td>04-May</td>\n",
       "      <td>Left wheel</td>\n",
       "      <td>Silver</td>\n",
       "      <td>12</td>\n",
       "    </tr>\n",
       "    <tr>\n",
       "      <th>1</th>\n",
       "      <td>16621</td>\n",
       "      <td>1018</td>\n",
       "      <td>CHEVROLET</td>\n",
       "      <td>Equinox</td>\n",
       "      <td>2011</td>\n",
       "      <td>Jeep</td>\n",
       "      <td>No</td>\n",
       "      <td>Petrol</td>\n",
       "      <td>3.0</td>\n",
       "      <td>192000 km</td>\n",
       "      <td>6</td>\n",
       "      <td>Tiptronic</td>\n",
       "      <td>4x4</td>\n",
       "      <td>04-May</td>\n",
       "      <td>Left wheel</td>\n",
       "      <td>Black</td>\n",
       "      <td>8</td>\n",
       "    </tr>\n",
       "    <tr>\n",
       "      <th>2</th>\n",
       "      <td>8467</td>\n",
       "      <td>-</td>\n",
       "      <td>HONDA</td>\n",
       "      <td>FIT</td>\n",
       "      <td>2006</td>\n",
       "      <td>Hatchback</td>\n",
       "      <td>No</td>\n",
       "      <td>Petrol</td>\n",
       "      <td>1.3</td>\n",
       "      <td>200000 km</td>\n",
       "      <td>4</td>\n",
       "      <td>Variator</td>\n",
       "      <td>Front</td>\n",
       "      <td>04-May</td>\n",
       "      <td>Right-hand drive</td>\n",
       "      <td>Black</td>\n",
       "      <td>2</td>\n",
       "    </tr>\n",
       "    <tr>\n",
       "      <th>3</th>\n",
       "      <td>3607</td>\n",
       "      <td>862</td>\n",
       "      <td>FORD</td>\n",
       "      <td>Escape</td>\n",
       "      <td>2011</td>\n",
       "      <td>Jeep</td>\n",
       "      <td>Yes</td>\n",
       "      <td>Hybrid</td>\n",
       "      <td>2.5</td>\n",
       "      <td>168966 km</td>\n",
       "      <td>4</td>\n",
       "      <td>Automatic</td>\n",
       "      <td>4x4</td>\n",
       "      <td>04-May</td>\n",
       "      <td>Left wheel</td>\n",
       "      <td>White</td>\n",
       "      <td>0</td>\n",
       "    </tr>\n",
       "    <tr>\n",
       "      <th>4</th>\n",
       "      <td>11726</td>\n",
       "      <td>446</td>\n",
       "      <td>HONDA</td>\n",
       "      <td>FIT</td>\n",
       "      <td>2014</td>\n",
       "      <td>Hatchback</td>\n",
       "      <td>Yes</td>\n",
       "      <td>Petrol</td>\n",
       "      <td>1.3</td>\n",
       "      <td>91901 km</td>\n",
       "      <td>4</td>\n",
       "      <td>Automatic</td>\n",
       "      <td>Front</td>\n",
       "      <td>04-May</td>\n",
       "      <td>Left wheel</td>\n",
       "      <td>Silver</td>\n",
       "      <td>4</td>\n",
       "    </tr>\n",
       "  </tbody>\n",
       "</table>\n",
       "</div>"
      ],
      "text/plain": [
       "   Price  Levy Manufacturer    Model  Prod. year   Category Leather interior  \\\n",
       "0  13328  1399        LEXUS   RX 450        2010       Jeep              Yes   \n",
       "1  16621  1018    CHEVROLET  Equinox        2011       Jeep               No   \n",
       "2   8467     -        HONDA      FIT        2006  Hatchback               No   \n",
       "3   3607   862         FORD   Escape        2011       Jeep              Yes   \n",
       "4  11726   446        HONDA      FIT        2014  Hatchback              Yes   \n",
       "\n",
       "  Fuel type  Engine volume    Mileage  Cylinders Gear box type Drive wheels  \\\n",
       "0    Hybrid            3.5  186005 km          6     Automatic          4x4   \n",
       "1    Petrol            3.0  192000 km          6     Tiptronic          4x4   \n",
       "2    Petrol            1.3  200000 km          4      Variator        Front   \n",
       "3    Hybrid            2.5  168966 km          4     Automatic          4x4   \n",
       "4    Petrol            1.3   91901 km          4     Automatic        Front   \n",
       "\n",
       "    Doors             Wheel   Color  Airbags  \n",
       "0  04-May        Left wheel  Silver       12  \n",
       "1  04-May        Left wheel   Black        8  \n",
       "2  04-May  Right-hand drive   Black        2  \n",
       "3  04-May        Left wheel   White        0  \n",
       "4  04-May        Left wheel  Silver        4  "
      ]
     },
     "execution_count": 11,
     "metadata": {},
     "output_type": "execute_result"
    }
   ],
   "source": [
    "df.head()"
   ]
  },
  {
   "cell_type": "code",
   "execution_count": null,
   "id": "d469aafd",
   "metadata": {},
   "outputs": [],
   "source": []
  },
  {
   "cell_type": "code",
   "execution_count": 12,
   "id": "8450268d",
   "metadata": {},
   "outputs": [],
   "source": [
    "columns = df.columns.tolist()\n"
   ]
  },
  {
   "cell_type": "code",
   "execution_count": 13,
   "id": "5344bc12",
   "metadata": {},
   "outputs": [
    {
     "data": {
      "text/html": [
       "<div>\n",
       "<style scoped>\n",
       "    .dataframe tbody tr th:only-of-type {\n",
       "        vertical-align: middle;\n",
       "    }\n",
       "\n",
       "    .dataframe tbody tr th {\n",
       "        vertical-align: top;\n",
       "    }\n",
       "\n",
       "    .dataframe thead th {\n",
       "        text-align: right;\n",
       "    }\n",
       "</style>\n",
       "<table border=\"1\" class=\"dataframe\">\n",
       "  <thead>\n",
       "    <tr style=\"text-align: right;\">\n",
       "      <th></th>\n",
       "      <th>Price</th>\n",
       "      <th>Levy</th>\n",
       "      <th>Manufacturer</th>\n",
       "      <th>Model</th>\n",
       "      <th>Prod. year</th>\n",
       "      <th>Category</th>\n",
       "      <th>Leather interior</th>\n",
       "      <th>Fuel type</th>\n",
       "      <th>Engine volume</th>\n",
       "      <th>Mileage</th>\n",
       "      <th>Cylinders</th>\n",
       "      <th>Gear box type</th>\n",
       "      <th>Drive wheels</th>\n",
       "      <th>Doors</th>\n",
       "      <th>Wheel</th>\n",
       "      <th>Color</th>\n",
       "      <th>Airbags</th>\n",
       "    </tr>\n",
       "  </thead>\n",
       "  <tbody>\n",
       "    <tr>\n",
       "      <th>0</th>\n",
       "      <td>13328</td>\n",
       "      <td>1399</td>\n",
       "      <td>LEXUS</td>\n",
       "      <td>RX 450</td>\n",
       "      <td>2010</td>\n",
       "      <td>Jeep</td>\n",
       "      <td>Yes</td>\n",
       "      <td>Hybrid</td>\n",
       "      <td>3.5</td>\n",
       "      <td>186005.0</td>\n",
       "      <td>6</td>\n",
       "      <td>Automatic</td>\n",
       "      <td>4x4</td>\n",
       "      <td>04-May</td>\n",
       "      <td>Left wheel</td>\n",
       "      <td>Silver</td>\n",
       "      <td>12</td>\n",
       "    </tr>\n",
       "    <tr>\n",
       "      <th>1</th>\n",
       "      <td>16621</td>\n",
       "      <td>1018</td>\n",
       "      <td>CHEVROLET</td>\n",
       "      <td>Equinox</td>\n",
       "      <td>2011</td>\n",
       "      <td>Jeep</td>\n",
       "      <td>No</td>\n",
       "      <td>Petrol</td>\n",
       "      <td>3.0</td>\n",
       "      <td>192000.0</td>\n",
       "      <td>6</td>\n",
       "      <td>Tiptronic</td>\n",
       "      <td>4x4</td>\n",
       "      <td>04-May</td>\n",
       "      <td>Left wheel</td>\n",
       "      <td>Black</td>\n",
       "      <td>8</td>\n",
       "    </tr>\n",
       "    <tr>\n",
       "      <th>2</th>\n",
       "      <td>8467</td>\n",
       "      <td>-</td>\n",
       "      <td>HONDA</td>\n",
       "      <td>FIT</td>\n",
       "      <td>2006</td>\n",
       "      <td>Hatchback</td>\n",
       "      <td>No</td>\n",
       "      <td>Petrol</td>\n",
       "      <td>1.3</td>\n",
       "      <td>200000.0</td>\n",
       "      <td>4</td>\n",
       "      <td>Variator</td>\n",
       "      <td>Front</td>\n",
       "      <td>04-May</td>\n",
       "      <td>Right-hand drive</td>\n",
       "      <td>Black</td>\n",
       "      <td>2</td>\n",
       "    </tr>\n",
       "    <tr>\n",
       "      <th>3</th>\n",
       "      <td>3607</td>\n",
       "      <td>862</td>\n",
       "      <td>FORD</td>\n",
       "      <td>Escape</td>\n",
       "      <td>2011</td>\n",
       "      <td>Jeep</td>\n",
       "      <td>Yes</td>\n",
       "      <td>Hybrid</td>\n",
       "      <td>2.5</td>\n",
       "      <td>168966.0</td>\n",
       "      <td>4</td>\n",
       "      <td>Automatic</td>\n",
       "      <td>4x4</td>\n",
       "      <td>04-May</td>\n",
       "      <td>Left wheel</td>\n",
       "      <td>White</td>\n",
       "      <td>0</td>\n",
       "    </tr>\n",
       "    <tr>\n",
       "      <th>4</th>\n",
       "      <td>11726</td>\n",
       "      <td>446</td>\n",
       "      <td>HONDA</td>\n",
       "      <td>FIT</td>\n",
       "      <td>2014</td>\n",
       "      <td>Hatchback</td>\n",
       "      <td>Yes</td>\n",
       "      <td>Petrol</td>\n",
       "      <td>1.3</td>\n",
       "      <td>91901.0</td>\n",
       "      <td>4</td>\n",
       "      <td>Automatic</td>\n",
       "      <td>Front</td>\n",
       "      <td>04-May</td>\n",
       "      <td>Left wheel</td>\n",
       "      <td>Silver</td>\n",
       "      <td>4</td>\n",
       "    </tr>\n",
       "    <tr>\n",
       "      <th>...</th>\n",
       "      <td>...</td>\n",
       "      <td>...</td>\n",
       "      <td>...</td>\n",
       "      <td>...</td>\n",
       "      <td>...</td>\n",
       "      <td>...</td>\n",
       "      <td>...</td>\n",
       "      <td>...</td>\n",
       "      <td>...</td>\n",
       "      <td>...</td>\n",
       "      <td>...</td>\n",
       "      <td>...</td>\n",
       "      <td>...</td>\n",
       "      <td>...</td>\n",
       "      <td>...</td>\n",
       "      <td>...</td>\n",
       "      <td>...</td>\n",
       "    </tr>\n",
       "    <tr>\n",
       "      <th>19232</th>\n",
       "      <td>8467</td>\n",
       "      <td>-</td>\n",
       "      <td>MERCEDES-BENZ</td>\n",
       "      <td>CLK 200</td>\n",
       "      <td>1999</td>\n",
       "      <td>Coupe</td>\n",
       "      <td>Yes</td>\n",
       "      <td>CNG</td>\n",
       "      <td>2.0</td>\n",
       "      <td>300000.0</td>\n",
       "      <td>4</td>\n",
       "      <td>Manual</td>\n",
       "      <td>Rear</td>\n",
       "      <td>02-Mar</td>\n",
       "      <td>Left wheel</td>\n",
       "      <td>Silver</td>\n",
       "      <td>5</td>\n",
       "    </tr>\n",
       "    <tr>\n",
       "      <th>19233</th>\n",
       "      <td>15681</td>\n",
       "      <td>831</td>\n",
       "      <td>HYUNDAI</td>\n",
       "      <td>Sonata</td>\n",
       "      <td>2011</td>\n",
       "      <td>Sedan</td>\n",
       "      <td>Yes</td>\n",
       "      <td>Petrol</td>\n",
       "      <td>2.4</td>\n",
       "      <td>161600.0</td>\n",
       "      <td>4</td>\n",
       "      <td>Tiptronic</td>\n",
       "      <td>Front</td>\n",
       "      <td>04-May</td>\n",
       "      <td>Left wheel</td>\n",
       "      <td>Red</td>\n",
       "      <td>8</td>\n",
       "    </tr>\n",
       "    <tr>\n",
       "      <th>19234</th>\n",
       "      <td>26108</td>\n",
       "      <td>836</td>\n",
       "      <td>HYUNDAI</td>\n",
       "      <td>Tucson</td>\n",
       "      <td>2010</td>\n",
       "      <td>Jeep</td>\n",
       "      <td>Yes</td>\n",
       "      <td>Diesel</td>\n",
       "      <td>2.0</td>\n",
       "      <td>116365.0</td>\n",
       "      <td>4</td>\n",
       "      <td>Automatic</td>\n",
       "      <td>Front</td>\n",
       "      <td>04-May</td>\n",
       "      <td>Left wheel</td>\n",
       "      <td>Grey</td>\n",
       "      <td>4</td>\n",
       "    </tr>\n",
       "    <tr>\n",
       "      <th>19235</th>\n",
       "      <td>5331</td>\n",
       "      <td>1288</td>\n",
       "      <td>CHEVROLET</td>\n",
       "      <td>Captiva</td>\n",
       "      <td>2007</td>\n",
       "      <td>Jeep</td>\n",
       "      <td>Yes</td>\n",
       "      <td>Diesel</td>\n",
       "      <td>2.0</td>\n",
       "      <td>51258.0</td>\n",
       "      <td>4</td>\n",
       "      <td>Automatic</td>\n",
       "      <td>Front</td>\n",
       "      <td>04-May</td>\n",
       "      <td>Left wheel</td>\n",
       "      <td>Black</td>\n",
       "      <td>4</td>\n",
       "    </tr>\n",
       "    <tr>\n",
       "      <th>19236</th>\n",
       "      <td>470</td>\n",
       "      <td>753</td>\n",
       "      <td>HYUNDAI</td>\n",
       "      <td>Sonata</td>\n",
       "      <td>2012</td>\n",
       "      <td>Sedan</td>\n",
       "      <td>Yes</td>\n",
       "      <td>Hybrid</td>\n",
       "      <td>2.4</td>\n",
       "      <td>186923.0</td>\n",
       "      <td>4</td>\n",
       "      <td>Automatic</td>\n",
       "      <td>Front</td>\n",
       "      <td>04-May</td>\n",
       "      <td>Left wheel</td>\n",
       "      <td>White</td>\n",
       "      <td>12</td>\n",
       "    </tr>\n",
       "  </tbody>\n",
       "</table>\n",
       "<p>19237 rows × 17 columns</p>\n",
       "</div>"
      ],
      "text/plain": [
       "       Price  Levy   Manufacturer    Model  Prod. year   Category  \\\n",
       "0      13328  1399          LEXUS   RX 450        2010       Jeep   \n",
       "1      16621  1018      CHEVROLET  Equinox        2011       Jeep   \n",
       "2       8467     -          HONDA      FIT        2006  Hatchback   \n",
       "3       3607   862           FORD   Escape        2011       Jeep   \n",
       "4      11726   446          HONDA      FIT        2014  Hatchback   \n",
       "...      ...   ...            ...      ...         ...        ...   \n",
       "19232   8467     -  MERCEDES-BENZ  CLK 200        1999      Coupe   \n",
       "19233  15681   831        HYUNDAI   Sonata        2011      Sedan   \n",
       "19234  26108   836        HYUNDAI   Tucson        2010       Jeep   \n",
       "19235   5331  1288      CHEVROLET  Captiva        2007       Jeep   \n",
       "19236    470   753        HYUNDAI   Sonata        2012      Sedan   \n",
       "\n",
       "      Leather interior Fuel type  Engine volume   Mileage  Cylinders  \\\n",
       "0                  Yes    Hybrid            3.5  186005.0          6   \n",
       "1                   No    Petrol            3.0  192000.0          6   \n",
       "2                   No    Petrol            1.3  200000.0          4   \n",
       "3                  Yes    Hybrid            2.5  168966.0          4   \n",
       "4                  Yes    Petrol            1.3   91901.0          4   \n",
       "...                ...       ...            ...       ...        ...   \n",
       "19232              Yes       CNG            2.0  300000.0          4   \n",
       "19233              Yes    Petrol            2.4  161600.0          4   \n",
       "19234              Yes    Diesel            2.0  116365.0          4   \n",
       "19235              Yes    Diesel            2.0   51258.0          4   \n",
       "19236              Yes    Hybrid            2.4  186923.0          4   \n",
       "\n",
       "      Gear box type Drive wheels   Doors             Wheel   Color  Airbags  \n",
       "0         Automatic          4x4  04-May        Left wheel  Silver       12  \n",
       "1         Tiptronic          4x4  04-May        Left wheel   Black        8  \n",
       "2          Variator        Front  04-May  Right-hand drive   Black        2  \n",
       "3         Automatic          4x4  04-May        Left wheel   White        0  \n",
       "4         Automatic        Front  04-May        Left wheel  Silver        4  \n",
       "...             ...          ...     ...               ...     ...      ...  \n",
       "19232        Manual         Rear  02-Mar        Left wheel  Silver        5  \n",
       "19233     Tiptronic        Front  04-May        Left wheel     Red        8  \n",
       "19234     Automatic        Front  04-May        Left wheel    Grey        4  \n",
       "19235     Automatic        Front  04-May        Left wheel   Black        4  \n",
       "19236     Automatic        Front  04-May        Left wheel   White       12  \n",
       "\n",
       "[19237 rows x 17 columns]"
      ]
     },
     "execution_count": 13,
     "metadata": {},
     "output_type": "execute_result"
    }
   ],
   "source": [
    "df[\"Mileage\"] = df[\"Mileage\"].astype(str)\n",
    "df[\"Mileage\"] = df[\"Mileage\"].str.replace(\"km\", \"\")\n",
    "df[\"Mileage\"] = df[\"Mileage\"].str.replace(\",\", \".\")\n",
    "df[\"Mileage\"] = df[\"Mileage\"].astype(float)\n",
    "df"
   ]
  },
  {
   "cell_type": "code",
   "execution_count": 14,
   "id": "eb3e8f31",
   "metadata": {},
   "outputs": [
    {
     "data": {
      "text/plain": [
       "<bound method Series.unique of 0         RX 450\n",
       "1        Equinox\n",
       "2            FIT\n",
       "3         Escape\n",
       "4            FIT\n",
       "          ...   \n",
       "19232    CLK 200\n",
       "19233     Sonata\n",
       "19234     Tucson\n",
       "19235    Captiva\n",
       "19236     Sonata\n",
       "Name: Model, Length: 19237, dtype: object>"
      ]
     },
     "execution_count": 14,
     "metadata": {},
     "output_type": "execute_result"
    }
   ],
   "source": [
    "df['Model'].unique"
   ]
  },
  {
   "cell_type": "code",
   "execution_count": 15,
   "id": "dcf8ba22",
   "metadata": {},
   "outputs": [],
   "source": [
    "#df = df[df[\"Manufacturer\"].str.contains(\"სხვა\") ==False]\n",
    "df = df[df[\"Levy\"].str.contains(\"-\") ==False]"
   ]
  },
  {
   "cell_type": "code",
   "execution_count": 16,
   "id": "7df939ea",
   "metadata": {},
   "outputs": [],
   "source": [
    "\n",
    "#df = df.replace(to_replace=\"-\",value=0)\n",
    "df['Levy']=df['Levy'].astype(\"float\")"
   ]
  },
  {
   "cell_type": "code",
   "execution_count": 17,
   "id": "02a9449e",
   "metadata": {},
   "outputs": [
    {
     "data": {
      "text/plain": [
       "Price                 int64\n",
       "Levy                float64\n",
       "Manufacturer         object\n",
       "Model                object\n",
       "Prod. year            int64\n",
       "Category             object\n",
       "Leather interior     object\n",
       "Fuel type            object\n",
       "Engine volume       float64\n",
       "Mileage             float64\n",
       "Cylinders             int64\n",
       "Gear box type        object\n",
       "Drive wheels         object\n",
       "Doors                object\n",
       "Wheel                object\n",
       "Color                object\n",
       "Airbags               int64\n",
       "dtype: object"
      ]
     },
     "execution_count": 17,
     "metadata": {},
     "output_type": "execute_result"
    }
   ],
   "source": [
    "df.dtypes"
   ]
  },
  {
   "cell_type": "markdown",
   "id": "4bebb435",
   "metadata": {},
   "source": [
    "Déclarons une variable appelée df2 qui va recevoir df"
   ]
  },
  {
   "cell_type": "code",
   "execution_count": 18,
   "id": "af908b6b",
   "metadata": {},
   "outputs": [
    {
     "data": {
      "text/plain": [
       "\"from sklearn import preprocessing\\nfor col in df2.columns :\\n    if df2[col].dtype == 'object':\\n        df2 = pd.get_dummies(df2, columns=[col])\\n        \\ndf2.head()\""
      ]
     },
     "execution_count": 18,
     "metadata": {},
     "output_type": "execute_result"
    }
   ],
   "source": [
    "\"\"\"from sklearn import preprocessing\n",
    "for col in df2.columns :\n",
    "    if df2[col].dtype == 'object':\n",
    "        df2 = pd.get_dummies(df2, columns=[col])\n",
    "        \n",
    "df2.head()\"\"\""
   ]
  },
  {
   "cell_type": "code",
   "execution_count": 19,
   "id": "6e4389f1",
   "metadata": {},
   "outputs": [
    {
     "data": {
      "text/html": [
       "<div>\n",
       "<style scoped>\n",
       "    .dataframe tbody tr th:only-of-type {\n",
       "        vertical-align: middle;\n",
       "    }\n",
       "\n",
       "    .dataframe tbody tr th {\n",
       "        vertical-align: top;\n",
       "    }\n",
       "\n",
       "    .dataframe thead th {\n",
       "        text-align: right;\n",
       "    }\n",
       "</style>\n",
       "<table border=\"1\" class=\"dataframe\">\n",
       "  <thead>\n",
       "    <tr style=\"text-align: right;\">\n",
       "      <th></th>\n",
       "      <th>Price</th>\n",
       "      <th>Levy</th>\n",
       "      <th>Manufacturer</th>\n",
       "      <th>Model</th>\n",
       "      <th>Prod. year</th>\n",
       "      <th>Category</th>\n",
       "      <th>Leather interior</th>\n",
       "      <th>Fuel type</th>\n",
       "      <th>Engine volume</th>\n",
       "      <th>Mileage</th>\n",
       "      <th>Cylinders</th>\n",
       "      <th>Gear box type</th>\n",
       "      <th>Drive wheels</th>\n",
       "      <th>Doors</th>\n",
       "      <th>Wheel</th>\n",
       "      <th>Color</th>\n",
       "      <th>Airbags</th>\n",
       "    </tr>\n",
       "  </thead>\n",
       "  <tbody>\n",
       "    <tr>\n",
       "      <th>0</th>\n",
       "      <td>13328</td>\n",
       "      <td>1399.0</td>\n",
       "      <td>26</td>\n",
       "      <td>629</td>\n",
       "      <td>2010</td>\n",
       "      <td>4</td>\n",
       "      <td>1</td>\n",
       "      <td>2</td>\n",
       "      <td>3.5</td>\n",
       "      <td>186005.0</td>\n",
       "      <td>6</td>\n",
       "      <td>0</td>\n",
       "      <td>0</td>\n",
       "      <td>1</td>\n",
       "      <td>0</td>\n",
       "      <td>12</td>\n",
       "      <td>12</td>\n",
       "    </tr>\n",
       "    <tr>\n",
       "      <th>1</th>\n",
       "      <td>16621</td>\n",
       "      <td>1018.0</td>\n",
       "      <td>6</td>\n",
       "      <td>313</td>\n",
       "      <td>2011</td>\n",
       "      <td>4</td>\n",
       "      <td>0</td>\n",
       "      <td>4</td>\n",
       "      <td>3.0</td>\n",
       "      <td>192000.0</td>\n",
       "      <td>6</td>\n",
       "      <td>2</td>\n",
       "      <td>0</td>\n",
       "      <td>1</td>\n",
       "      <td>0</td>\n",
       "      <td>1</td>\n",
       "      <td>8</td>\n",
       "    </tr>\n",
       "    <tr>\n",
       "      <th>3</th>\n",
       "      <td>3607</td>\n",
       "      <td>862.0</td>\n",
       "      <td>14</td>\n",
       "      <td>316</td>\n",
       "      <td>2011</td>\n",
       "      <td>4</td>\n",
       "      <td>1</td>\n",
       "      <td>2</td>\n",
       "      <td>2.5</td>\n",
       "      <td>168966.0</td>\n",
       "      <td>4</td>\n",
       "      <td>0</td>\n",
       "      <td>0</td>\n",
       "      <td>1</td>\n",
       "      <td>0</td>\n",
       "      <td>14</td>\n",
       "      <td>0</td>\n",
       "    </tr>\n",
       "    <tr>\n",
       "      <th>4</th>\n",
       "      <td>11726</td>\n",
       "      <td>446.0</td>\n",
       "      <td>17</td>\n",
       "      <td>331</td>\n",
       "      <td>2014</td>\n",
       "      <td>3</td>\n",
       "      <td>1</td>\n",
       "      <td>4</td>\n",
       "      <td>1.3</td>\n",
       "      <td>91901.0</td>\n",
       "      <td>4</td>\n",
       "      <td>0</td>\n",
       "      <td>1</td>\n",
       "      <td>1</td>\n",
       "      <td>0</td>\n",
       "      <td>12</td>\n",
       "      <td>4</td>\n",
       "    </tr>\n",
       "    <tr>\n",
       "      <th>5</th>\n",
       "      <td>39493</td>\n",
       "      <td>891.0</td>\n",
       "      <td>19</td>\n",
       "      <td>652</td>\n",
       "      <td>2016</td>\n",
       "      <td>4</td>\n",
       "      <td>1</td>\n",
       "      <td>1</td>\n",
       "      <td>2.0</td>\n",
       "      <td>160931.0</td>\n",
       "      <td>4</td>\n",
       "      <td>0</td>\n",
       "      <td>1</td>\n",
       "      <td>1</td>\n",
       "      <td>0</td>\n",
       "      <td>14</td>\n",
       "      <td>4</td>\n",
       "    </tr>\n",
       "  </tbody>\n",
       "</table>\n",
       "</div>"
      ],
      "text/plain": [
       "   Price    Levy  Manufacturer  Model  Prod. year  Category  Leather interior  \\\n",
       "0  13328  1399.0            26    629        2010         4                 1   \n",
       "1  16621  1018.0             6    313        2011         4                 0   \n",
       "3   3607   862.0            14    316        2011         4                 1   \n",
       "4  11726   446.0            17    331        2014         3                 1   \n",
       "5  39493   891.0            19    652        2016         4                 1   \n",
       "\n",
       "   Fuel type  Engine volume   Mileage  Cylinders  Gear box type  Drive wheels  \\\n",
       "0          2            3.5  186005.0          6              0             0   \n",
       "1          4            3.0  192000.0          6              2             0   \n",
       "3          2            2.5  168966.0          4              0             0   \n",
       "4          4            1.3   91901.0          4              0             1   \n",
       "5          1            2.0  160931.0          4              0             1   \n",
       "\n",
       "   Doors  Wheel  Color  Airbags  \n",
       "0      1      0     12       12  \n",
       "1      1      0      1        8  \n",
       "3      1      0     14        0  \n",
       "4      1      0     12        4  \n",
       "5      1      0     14        4  "
      ]
     },
     "execution_count": 19,
     "metadata": {},
     "output_type": "execute_result"
    }
   ],
   "source": [
    "for col in df.columns :\n",
    "    if df[col].dtype == 'object':\n",
    "        df[col] = df[col].astype('category')\n",
    "        df[col] = df[col].cat.codes\n",
    "        \n",
    "df.head()"
   ]
  },
  {
   "cell_type": "code",
   "execution_count": 20,
   "id": "4406f76c",
   "metadata": {},
   "outputs": [],
   "source": [
    "#df.head()"
   ]
  },
  {
   "cell_type": "code",
   "execution_count": null,
   "id": "8978cdf1",
   "metadata": {},
   "outputs": [],
   "source": []
  },
  {
   "cell_type": "code",
   "execution_count": 21,
   "id": "d6276686",
   "metadata": {},
   "outputs": [
    {
     "data": {
      "text/plain": [
       "\"plt.figure(figsize=(16,38))\\n\\nfor i, col in enumerate(columns, 1):\\n    plt.subplot(8,4,i)\\n    sns.kdeplot(df[col], color = '#d1aa00', fill = True, warn_singular=False)\\n    plt.subplot(8,4,i+11)\\n    df[col].plot.box()\\nplt.tight_layout()\\nplt.show()\\n\""
      ]
     },
     "execution_count": 21,
     "metadata": {},
     "output_type": "execute_result"
    }
   ],
   "source": [
    "\"\"\"plt.figure(figsize=(16,38))\n",
    "\n",
    "for i, col in enumerate(columns, 1):\n",
    "    plt.subplot(8,4,i)\n",
    "    sns.kdeplot(df[col], color = '#d1aa00', fill = True, warn_singular=False)\n",
    "    plt.subplot(8,4,i+11)\n",
    "    df[col].plot.box()\n",
    "plt.tight_layout()\n",
    "plt.show()\n",
    "\"\"\""
   ]
  },
  {
   "cell_type": "code",
   "execution_count": 22,
   "id": "620a6812",
   "metadata": {},
   "outputs": [
    {
     "data": {
      "text/html": [
       "<div>\n",
       "<style scoped>\n",
       "    .dataframe tbody tr th:only-of-type {\n",
       "        vertical-align: middle;\n",
       "    }\n",
       "\n",
       "    .dataframe tbody tr th {\n",
       "        vertical-align: top;\n",
       "    }\n",
       "\n",
       "    .dataframe thead th {\n",
       "        text-align: right;\n",
       "    }\n",
       "</style>\n",
       "<table border=\"1\" class=\"dataframe\">\n",
       "  <thead>\n",
       "    <tr style=\"text-align: right;\">\n",
       "      <th></th>\n",
       "      <th>Price</th>\n",
       "      <th>Levy</th>\n",
       "      <th>Manufacturer</th>\n",
       "      <th>Model</th>\n",
       "      <th>Prod. year</th>\n",
       "      <th>Category</th>\n",
       "      <th>Leather interior</th>\n",
       "      <th>Fuel type</th>\n",
       "      <th>Engine volume</th>\n",
       "      <th>Mileage</th>\n",
       "      <th>Cylinders</th>\n",
       "      <th>Gear box type</th>\n",
       "      <th>Drive wheels</th>\n",
       "      <th>Doors</th>\n",
       "      <th>Wheel</th>\n",
       "      <th>Color</th>\n",
       "      <th>Airbags</th>\n",
       "    </tr>\n",
       "  </thead>\n",
       "  <tbody>\n",
       "    <tr>\n",
       "      <th>skewness</th>\n",
       "      <td>8.617555</td>\n",
       "      <td>5.449954</td>\n",
       "      <td>0.170889</td>\n",
       "      <td>-0.034358</td>\n",
       "      <td>-1.036890</td>\n",
       "      <td>-0.229088</td>\n",
       "      <td>-2.024064</td>\n",
       "      <td>-0.345431</td>\n",
       "      <td>2.559402</td>\n",
       "      <td>95.003074</td>\n",
       "      <td>2.269514</td>\n",
       "      <td>2.298230</td>\n",
       "      <td>-0.256292</td>\n",
       "      <td>-5.113379</td>\n",
       "      <td>6.316788</td>\n",
       "      <td>-0.186085</td>\n",
       "      <td>-0.023363</td>\n",
       "    </tr>\n",
       "    <tr>\n",
       "      <th>kurtosis</th>\n",
       "      <td>297.566483</td>\n",
       "      <td>85.727144</td>\n",
       "      <td>-1.064719</td>\n",
       "      <td>-1.205897</td>\n",
       "      <td>7.128399</td>\n",
       "      <td>-1.537528</td>\n",
       "      <td>2.097149</td>\n",
       "      <td>-1.595519</td>\n",
       "      <td>27.117056</td>\n",
       "      <td>9486.531518</td>\n",
       "      <td>6.296835</td>\n",
       "      <td>3.860205</td>\n",
       "      <td>0.640512</td>\n",
       "      <td>49.664534</td>\n",
       "      <td>37.907465</td>\n",
       "      <td>-1.655412</td>\n",
       "      <td>-1.457778</td>\n",
       "    </tr>\n",
       "  </tbody>\n",
       "</table>\n",
       "</div>"
      ],
      "text/plain": [
       "               Price       Levy  Manufacturer     Model  Prod. year  Category  \\\n",
       "skewness    8.617555   5.449954      0.170889 -0.034358   -1.036890 -0.229088   \n",
       "kurtosis  297.566483  85.727144     -1.064719 -1.205897    7.128399 -1.537528   \n",
       "\n",
       "          Leather interior  Fuel type  Engine volume      Mileage  Cylinders  \\\n",
       "skewness         -2.024064  -0.345431       2.559402    95.003074   2.269514   \n",
       "kurtosis          2.097149  -1.595519      27.117056  9486.531518   6.296835   \n",
       "\n",
       "          Gear box type  Drive wheels      Doors      Wheel     Color  \\\n",
       "skewness       2.298230     -0.256292  -5.113379   6.316788 -0.186085   \n",
       "kurtosis       3.860205      0.640512  49.664534  37.907465 -1.655412   \n",
       "\n",
       "           Airbags  \n",
       "skewness -0.023363  \n",
       "kurtosis -1.457778  "
      ]
     },
     "execution_count": 22,
     "metadata": {},
     "output_type": "execute_result"
    }
   ],
   "source": [
    "pd.DataFrame(data=[df[columns].skew(),df[columns].kurtosis()],index=['skewness','kurtosis'])"
   ]
  },
  {
   "cell_type": "code",
   "execution_count": 23,
   "id": "424a0bcc",
   "metadata": {},
   "outputs": [
    {
     "data": {
      "text/plain": [
       "<Axes: >"
      ]
     },
     "execution_count": 23,
     "metadata": {},
     "output_type": "execute_result"
    },
    {
     "data": {
      "image/png": "[encoded data removed]",
      "text/plain": [
       "<Figure size 1800x1200 with 2 Axes>"
      ]
     },
     "metadata": {},
     "output_type": "display_data"
    }
   ],
   "source": [
    "import seaborn as sns\n",
    "f = plt.figure(figsize=(18,12))\n",
    "sns.set()\n",
    "sns.heatmap(df.corr(), linewidths=.2,annot=True,cmap='coolwarm')"
   ]
  },
  {
   "cell_type": "code",
   "execution_count": null,
   "id": "ef34443b",
   "metadata": {},
   "outputs": [],
   "source": []
  },
  {
   "cell_type": "markdown",
   "id": "8c121be1",
   "metadata": {},
   "source": [
    "Essayons de comprendre la matrice de corrélation "
   ]
  },
  {
   "cell_type": "code",
   "execution_count": 24,
   "id": "079cff3d",
   "metadata": {},
   "outputs": [
    {
     "data": {
      "text/plain": [
       "Price    1.0\n",
       "Name: Price, dtype: float64"
      ]
     },
     "execution_count": 24,
     "metadata": {},
     "output_type": "execute_result"
    }
   ],
   "source": [
    "cor = df.corr()\n",
    "threshold = 0.5\n",
    "a=abs(cor['Price'])\n",
    "result = a[a>0.5]\n",
    "result"
   ]
  },
  {
   "cell_type": "markdown",
   "id": "7b5a440e",
   "metadata": {},
   "source": [
    "Nous constatons qu'aucun feature n'a une corrélation supérieure à 0.5 avec le target Price"
   ]
  },
  {
   "cell_type": "code",
   "execution_count": 25,
   "id": "6eacc413",
   "metadata": {},
   "outputs": [],
   "source": [
    "df.drop('Cylinders', inplace=True, axis=1)\n",
    "#df.drop('Levy', inplace=True, axis=1)\n",
    "#df.drop('Engine volume', inplace=True, axis=1)\n",
    "#df.drop('Doors', inplace=True, axis=1)"
   ]
  },
  {
   "cell_type": "code",
   "execution_count": 26,
   "id": "019b24af",
   "metadata": {},
   "outputs": [
    {
     "data": {
      "text/plain": [
       "\"df.drop('Levy', inplace=True, axis=1)\\ndf.drop('Manufacturer', inplace=True, axis=1)\\ndf.drop('Model', inplace=True, axis=1)\\ndf.drop('Category', inplace=True, axis=1)\\ndf.drop('Leather interior', inplace=True, axis=1)\\ndf.drop('Fuel type', inplace=True, axis=1)\\ndf.drop('Engine volume', inplace=True, axis=1)\\ndf.drop('Mileage', inplace=True, axis=1)\\ndf.drop('Cylinders', inplace=True, axis=1)\\ndf.drop('Doors', inplace=True, axis=1)\\ndf.drop('Drive wheels', inplace=True, axis=1)\\ndf.drop('Color', inplace=True, axis=1)\\ndf.drop('Wheel', inplace=True, axis=1)\\ndf.drop('Airbags', inplace=True, axis=1)\\n\\n#df.drop('ID', inplace=True, axis=1)\""
      ]
     },
     "execution_count": 26,
     "metadata": {},
     "output_type": "execute_result"
    }
   ],
   "source": [
    "\"\"\"df.drop('Levy', inplace=True, axis=1)\n",
    "df.drop('Manufacturer', inplace=True, axis=1)\n",
    "df.drop('Model', inplace=True, axis=1)\n",
    "df.drop('Category', inplace=True, axis=1)\n",
    "df.drop('Leather interior', inplace=True, axis=1)\n",
    "df.drop('Fuel type', inplace=True, axis=1)\n",
    "df.drop('Engine volume', inplace=True, axis=1)\n",
    "df.drop('Mileage', inplace=True, axis=1)\n",
    "df.drop('Cylinders', inplace=True, axis=1)\n",
    "df.drop('Doors', inplace=True, axis=1)\n",
    "df.drop('Drive wheels', inplace=True, axis=1)\n",
    "df.drop('Color', inplace=True, axis=1)\n",
    "df.drop('Wheel', inplace=True, axis=1)\n",
    "df.drop('Airbags', inplace=True, axis=1)\n",
    "\n",
    "#df.drop('ID', inplace=True, axis=1)\"\"\""
   ]
  },
  {
   "cell_type": "code",
   "execution_count": 27,
   "id": "f1bc68e4",
   "metadata": {},
   "outputs": [
    {
     "data": {
      "text/plain": [
       "\"from sklearn import preprocessing\\nfor col in df.columns :\\n    if df[col].dtype == 'object':\\n        #df[col] = df[col].astype('category')\\n        #df[col] = df[col].cat.codes\\n        df = pd.get_dummies(df, columns=[col])\\n        \\ndf.head()\""
      ]
     },
     "execution_count": 27,
     "metadata": {},
     "output_type": "execute_result"
    }
   ],
   "source": [
    "\"\"\"from sklearn import preprocessing\n",
    "for col in df.columns :\n",
    "    if df[col].dtype == 'object':\n",
    "        #df[col] = df[col].astype('category')\n",
    "        #df[col] = df[col].cat.codes\n",
    "        df = pd.get_dummies(df, columns=[col])\n",
    "        \n",
    "df.head()\"\"\""
   ]
  },
  {
   "cell_type": "code",
   "execution_count": 464,
   "id": "e576a51e",
   "metadata": {},
   "outputs": [
    {
     "data": {
      "text/plain": [
       "\"import seaborn as sns\\nf = plt.figure(figsize=(18,12))\\nsns.set()\\nsns.heatmap(df.corr(), linewidths=.2,annot=True,cmap='coolwarm')\""
      ]
     },
     "execution_count": 464,
     "metadata": {},
     "output_type": "execute_result"
    }
   ],
   "source": [
    "\"\"\"import seaborn as sns\n",
    "f = plt.figure(figsize=(18,12))\n",
    "sns.set()\n",
    "sns.heatmap(df.corr(), linewidths=.2,annot=True,cmap='coolwarm')\"\"\""
   ]
  },
  {
   "cell_type": "code",
   "execution_count": 465,
   "id": "73cc5485",
   "metadata": {},
   "outputs": [
    {
     "data": {
      "text/plain": [
       "'df = df[(z < 3).all(axis=1)]\\ndf.shape'"
      ]
     },
     "execution_count": 465,
     "metadata": {},
     "output_type": "execute_result"
    }
   ],
   "source": [
    "\"\"\"df = df[(z < 3).all(axis=1)]\n",
    "df.shape\"\"\""
   ]
  },
  {
   "cell_type": "code",
   "execution_count": 466,
   "id": "34f61037",
   "metadata": {},
   "outputs": [
    {
     "data": {
      "text/plain": [
       "\"pd.DataFrame(data=[df[columns].skew(),df[columns].kurtosis()],index=['skewness','kurtosis'])\""
      ]
     },
     "execution_count": 466,
     "metadata": {},
     "output_type": "execute_result"
    }
   ],
   "source": [
    "\"\"\"pd.DataFrame(data=[df[columns].skew(),df[columns].kurtosis()],index=['skewness','kurtosis'])\"\"\""
   ]
  },
  {
   "cell_type": "markdown",
   "id": "5b81cc13",
   "metadata": {},
   "source": [
    "Maintenant, mettons le prix suivant une classe ( __Moins chèr,Moyen, Chèr et Très Chèr__)."
   ]
  },
  {
   "cell_type": "code",
   "execution_count": 467,
   "id": "05fbf0e4",
   "metadata": {},
   "outputs": [
    {
     "data": {
      "text/html": [
       "<div>\n",
       "<style scoped>\n",
       "    .dataframe tbody tr th:only-of-type {\n",
       "        vertical-align: middle;\n",
       "    }\n",
       "\n",
       "    .dataframe tbody tr th {\n",
       "        vertical-align: top;\n",
       "    }\n",
       "\n",
       "    .dataframe thead th {\n",
       "        text-align: right;\n",
       "    }\n",
       "</style>\n",
       "<table border=\"1\" class=\"dataframe\">\n",
       "  <thead>\n",
       "    <tr style=\"text-align: right;\">\n",
       "      <th></th>\n",
       "      <th>Price</th>\n",
       "      <th>Levy</th>\n",
       "      <th>Manufacturer</th>\n",
       "      <th>Model</th>\n",
       "      <th>Prod. year</th>\n",
       "      <th>Category</th>\n",
       "      <th>Leather interior</th>\n",
       "      <th>Fuel type</th>\n",
       "      <th>Engine volume</th>\n",
       "      <th>Mileage</th>\n",
       "      <th>Gear box type</th>\n",
       "      <th>Drive wheels</th>\n",
       "      <th>Doors</th>\n",
       "      <th>Wheel</th>\n",
       "      <th>Color</th>\n",
       "      <th>Airbags</th>\n",
       "      <th>Classe</th>\n",
       "    </tr>\n",
       "  </thead>\n",
       "  <tbody>\n",
       "    <tr>\n",
       "      <th>0</th>\n",
       "      <td>13328</td>\n",
       "      <td>1399.0</td>\n",
       "      <td>26</td>\n",
       "      <td>629</td>\n",
       "      <td>2010</td>\n",
       "      <td>4</td>\n",
       "      <td>1</td>\n",
       "      <td>2</td>\n",
       "      <td>3.5</td>\n",
       "      <td>186005.0</td>\n",
       "      <td>0</td>\n",
       "      <td>0</td>\n",
       "      <td>1</td>\n",
       "      <td>0</td>\n",
       "      <td>12</td>\n",
       "      <td>12</td>\n",
       "      <td>Moyen</td>\n",
       "    </tr>\n",
       "    <tr>\n",
       "      <th>1</th>\n",
       "      <td>16621</td>\n",
       "      <td>1018.0</td>\n",
       "      <td>6</td>\n",
       "      <td>313</td>\n",
       "      <td>2011</td>\n",
       "      <td>4</td>\n",
       "      <td>0</td>\n",
       "      <td>4</td>\n",
       "      <td>3.0</td>\n",
       "      <td>192000.0</td>\n",
       "      <td>2</td>\n",
       "      <td>0</td>\n",
       "      <td>1</td>\n",
       "      <td>0</td>\n",
       "      <td>1</td>\n",
       "      <td>8</td>\n",
       "      <td>Moyen</td>\n",
       "    </tr>\n",
       "    <tr>\n",
       "      <th>3</th>\n",
       "      <td>3607</td>\n",
       "      <td>862.0</td>\n",
       "      <td>14</td>\n",
       "      <td>316</td>\n",
       "      <td>2011</td>\n",
       "      <td>4</td>\n",
       "      <td>1</td>\n",
       "      <td>2</td>\n",
       "      <td>2.5</td>\n",
       "      <td>168966.0</td>\n",
       "      <td>0</td>\n",
       "      <td>0</td>\n",
       "      <td>1</td>\n",
       "      <td>0</td>\n",
       "      <td>14</td>\n",
       "      <td>0</td>\n",
       "      <td>Moins Cher</td>\n",
       "    </tr>\n",
       "    <tr>\n",
       "      <th>4</th>\n",
       "      <td>11726</td>\n",
       "      <td>446.0</td>\n",
       "      <td>17</td>\n",
       "      <td>331</td>\n",
       "      <td>2014</td>\n",
       "      <td>3</td>\n",
       "      <td>1</td>\n",
       "      <td>4</td>\n",
       "      <td>1.3</td>\n",
       "      <td>91901.0</td>\n",
       "      <td>0</td>\n",
       "      <td>1</td>\n",
       "      <td>1</td>\n",
       "      <td>0</td>\n",
       "      <td>12</td>\n",
       "      <td>4</td>\n",
       "      <td>Moyen</td>\n",
       "    </tr>\n",
       "    <tr>\n",
       "      <th>5</th>\n",
       "      <td>39493</td>\n",
       "      <td>891.0</td>\n",
       "      <td>19</td>\n",
       "      <td>652</td>\n",
       "      <td>2016</td>\n",
       "      <td>4</td>\n",
       "      <td>1</td>\n",
       "      <td>1</td>\n",
       "      <td>2.0</td>\n",
       "      <td>160931.0</td>\n",
       "      <td>0</td>\n",
       "      <td>1</td>\n",
       "      <td>1</td>\n",
       "      <td>0</td>\n",
       "      <td>14</td>\n",
       "      <td>4</td>\n",
       "      <td>Tres Cher</td>\n",
       "    </tr>\n",
       "  </tbody>\n",
       "</table>\n",
       "</div>"
      ],
      "text/plain": [
       "   Price    Levy  Manufacturer  Model  Prod. year  Category  Leather interior  \\\n",
       "0  13328  1399.0            26    629        2010         4                 1   \n",
       "1  16621  1018.0             6    313        2011         4                 0   \n",
       "3   3607   862.0            14    316        2011         4                 1   \n",
       "4  11726   446.0            17    331        2014         3                 1   \n",
       "5  39493   891.0            19    652        2016         4                 1   \n",
       "\n",
       "   Fuel type  Engine volume   Mileage  Gear box type  Drive wheels  Doors  \\\n",
       "0          2            3.5  186005.0              0             0      1   \n",
       "1          4            3.0  192000.0              2             0      1   \n",
       "3          2            2.5  168966.0              0             0      1   \n",
       "4          4            1.3   91901.0              0             1      1   \n",
       "5          1            2.0  160931.0              0             1      1   \n",
       "\n",
       "   Wheel  Color  Airbags      Classe  \n",
       "0      0     12       12       Moyen  \n",
       "1      0      1        8       Moyen  \n",
       "3      0     14        0  Moins Cher  \n",
       "4      0     12        4       Moyen  \n",
       "5      0     14        4   Tres Cher  "
      ]
     },
     "execution_count": 467,
     "metadata": {},
     "output_type": "execute_result"
    }
   ],
   "source": [
    "def price_class(Price):\n",
    "    if (Price >=1 and Price<=9278.965):\n",
    "        return \"Moins Cher\"\n",
    "    elif (Price > 9278.965 and Price<=1.855593e+04):\n",
    "        return \"Moyen\"\n",
    "    elif (Price >1.855593e+04  and Price<=27834.895):\n",
    "        return \"Cher\"\n",
    "    else:\n",
    "        return \"Tres Cher\"\n",
    "\n",
    "df['Classe'] = df['Price'].apply(price_class)\n",
    "df.head()"
   ]
  },
  {
   "cell_type": "code",
   "execution_count": 468,
   "id": "f78d3533",
   "metadata": {},
   "outputs": [
    {
     "data": {
      "text/plain": [
       "Moins Cher    4964\n",
       "Moyen         3732\n",
       "Tres Cher     2573\n",
       "Cher          2149\n",
       "Name: Classe, dtype: int64"
      ]
     },
     "execution_count": 468,
     "metadata": {},
     "output_type": "execute_result"
    }
   ],
   "source": [
    "df['Classe'].value_counts()"
   ]
  },
  {
   "cell_type": "markdown",
   "id": "b496a62a",
   "metadata": {},
   "source": [
    "Voyons graphiquement la répartition de __price__ en fonction du feature __Cylinders__"
   ]
  },
  {
   "cell_type": "code",
   "execution_count": 469,
   "id": "fdd140c8",
   "metadata": {},
   "outputs": [
    {
     "data": {
      "text/plain": [
       "\"sns.kdeplot(df.loc[df['Classe']=='Moins Cher','Cylinders'], label='Moins Cher')\\nsns.kdeplot(df.loc[df['Classe']=='Moyen','Cylinders'], label='Moyen')\\nsns.kdeplot(df.loc[df['Classe']=='Cher','Cylinders'], label='Cher')\\nsns.kdeplot(df.loc[df['Classe']=='Tres Cher','Cylinders'], label='Tres Cher')\\nplt.legend()\\nplt.show()\""
      ]
     },
     "execution_count": 469,
     "metadata": {},
     "output_type": "execute_result"
    }
   ],
   "source": [
    "\"\"\"sns.kdeplot(df.loc[df['Classe']=='Moins Cher','Cylinders'], label='Moins Cher')\n",
    "sns.kdeplot(df.loc[df['Classe']=='Moyen','Cylinders'], label='Moyen')\n",
    "sns.kdeplot(df.loc[df['Classe']=='Cher','Cylinders'], label='Cher')\n",
    "sns.kdeplot(df.loc[df['Classe']=='Tres Cher','Cylinders'], label='Tres Cher')\n",
    "plt.legend()\n",
    "plt.show()\"\"\""
   ]
  },
  {
   "cell_type": "markdown",
   "id": "3a839717",
   "metadata": {},
   "source": [
    "Voyons graphiquement la répartition de __price__ en fonction du feature __Airbags__"
   ]
  },
  {
   "cell_type": "code",
   "execution_count": 470,
   "id": "1c7bae65",
   "metadata": {},
   "outputs": [
    {
     "data": {
      "text/plain": [
       "\"sns.kdeplot(df.loc[df['Classe']=='Moins Cher','Airbags'], label='Moins Cher')\\nsns.kdeplot(df.loc[df['Classe']=='Moyen','Airbags'], label='Moyen')\\nsns.kdeplot(df.loc[df['Classe']=='Cher','Airbags'], label='Cher')\\nsns.kdeplot(df.loc[df['Classe']=='Tres Cher','Airbags'], label='Tres Cher')\\nplt.legend()\\nplt.show()\""
      ]
     },
     "execution_count": 470,
     "metadata": {},
     "output_type": "execute_result"
    }
   ],
   "source": [
    "\"\"\"sns.kdeplot(df.loc[df['Classe']=='Moins Cher','Airbags'], label='Moins Cher')\n",
    "sns.kdeplot(df.loc[df['Classe']=='Moyen','Airbags'], label='Moyen')\n",
    "sns.kdeplot(df.loc[df['Classe']=='Cher','Airbags'], label='Cher')\n",
    "sns.kdeplot(df.loc[df['Classe']=='Tres Cher','Airbags'], label='Tres Cher')\n",
    "plt.legend()\n",
    "plt.show()\"\"\""
   ]
  },
  {
   "cell_type": "markdown",
   "id": "eadb92f6",
   "metadata": {},
   "source": [
    "## 3. Traitement des Valeurs abbérrantes\n",
    "\n",
    "Vérifions si notre dataset ne comporte pas de  valeurs nulles\n"
   ]
  },
  {
   "cell_type": "code",
   "execution_count": 471,
   "id": "91c08c0e",
   "metadata": {},
   "outputs": [
    {
     "data": {
      "text/plain": [
       "Price               0\n",
       "Levy                0\n",
       "Manufacturer        0\n",
       "Model               0\n",
       "Prod. year          0\n",
       "Category            0\n",
       "Leather interior    0\n",
       "Fuel type           0\n",
       "Engine volume       0\n",
       "Mileage             0\n",
       "Gear box type       0\n",
       "Drive wheels        0\n",
       "Doors               0\n",
       "Wheel               0\n",
       "Color               0\n",
       "Airbags             0\n",
       "Classe              0\n",
       "dtype: int64"
      ]
     },
     "execution_count": 471,
     "metadata": {},
     "output_type": "execute_result"
    }
   ],
   "source": [
    "df.isnull().sum()"
   ]
  },
  {
   "cell_type": "code",
   "execution_count": 472,
   "id": "a582cebe",
   "metadata": {},
   "outputs": [
    {
     "data": {
      "text/plain": [
       "Price               0\n",
       "Levy                0\n",
       "Manufacturer        0\n",
       "Model               0\n",
       "Prod. year          0\n",
       "Category            0\n",
       "Leather interior    0\n",
       "Fuel type           0\n",
       "Engine volume       0\n",
       "Mileage             0\n",
       "Gear box type       0\n",
       "Drive wheels        0\n",
       "Doors               0\n",
       "Wheel               0\n",
       "Color               0\n",
       "Airbags             0\n",
       "Classe              0\n",
       "dtype: int64"
      ]
     },
     "execution_count": 472,
     "metadata": {},
     "output_type": "execute_result"
    }
   ],
   "source": [
    "df.isna().sum()"
   ]
  },
  {
   "cell_type": "code",
   "execution_count": 477,
   "id": "b5b391d3",
   "metadata": {},
   "outputs": [
    {
     "data": {
      "text/plain": [
       "0        False\n",
       "1        False\n",
       "3        False\n",
       "4        False\n",
       "5        False\n",
       "         ...  \n",
       "19225    False\n",
       "19230    False\n",
       "19233    False\n",
       "19234    False\n",
       "19236    False\n",
       "Length: 10040, dtype: bool"
      ]
     },
     "execution_count": 477,
     "metadata": {},
     "output_type": "execute_result"
    }
   ],
   "source": [
    "df.duplicated()"
   ]
  },
  {
   "cell_type": "code",
   "execution_count": 478,
   "id": "90e483f7",
   "metadata": {},
   "outputs": [],
   "source": [
    "df.dropna(how='all', inplace=True)"
   ]
  },
  {
   "cell_type": "code",
   "execution_count": 479,
   "id": "b301f4e5",
   "metadata": {},
   "outputs": [],
   "source": [
    "df.drop_duplicates(inplace=True)"
   ]
  },
  {
   "cell_type": "code",
   "execution_count": 482,
   "id": "1f1a9e32",
   "metadata": {
    "scrolled": true
   },
   "outputs": [
    {
     "data": {
      "text/html": [
       "<div>\n",
       "<style scoped>\n",
       "    .dataframe tbody tr th:only-of-type {\n",
       "        vertical-align: middle;\n",
       "    }\n",
       "\n",
       "    .dataframe tbody tr th {\n",
       "        vertical-align: top;\n",
       "    }\n",
       "\n",
       "    .dataframe thead th {\n",
       "        text-align: right;\n",
       "    }\n",
       "</style>\n",
       "<table border=\"1\" class=\"dataframe\">\n",
       "  <thead>\n",
       "    <tr style=\"text-align: right;\">\n",
       "      <th></th>\n",
       "      <th>Price</th>\n",
       "      <th>Levy</th>\n",
       "      <th>Manufacturer</th>\n",
       "      <th>Model</th>\n",
       "      <th>Prod. year</th>\n",
       "      <th>Category</th>\n",
       "      <th>Leather interior</th>\n",
       "      <th>Fuel type</th>\n",
       "      <th>Engine volume</th>\n",
       "      <th>Mileage</th>\n",
       "      <th>Gear box type</th>\n",
       "      <th>Drive wheels</th>\n",
       "      <th>Doors</th>\n",
       "      <th>Wheel</th>\n",
       "      <th>Color</th>\n",
       "      <th>Airbags</th>\n",
       "      <th>Classe</th>\n",
       "    </tr>\n",
       "  </thead>\n",
       "  <tbody>\n",
       "    <tr>\n",
       "      <th>0</th>\n",
       "      <td>13328</td>\n",
       "      <td>1399.0</td>\n",
       "      <td>26</td>\n",
       "      <td>629</td>\n",
       "      <td>2010</td>\n",
       "      <td>4</td>\n",
       "      <td>1</td>\n",
       "      <td>2</td>\n",
       "      <td>3.5</td>\n",
       "      <td>186005.0</td>\n",
       "      <td>0</td>\n",
       "      <td>0</td>\n",
       "      <td>1</td>\n",
       "      <td>0</td>\n",
       "      <td>12</td>\n",
       "      <td>12</td>\n",
       "      <td>Moyen</td>\n",
       "    </tr>\n",
       "    <tr>\n",
       "      <th>1</th>\n",
       "      <td>16621</td>\n",
       "      <td>1018.0</td>\n",
       "      <td>6</td>\n",
       "      <td>313</td>\n",
       "      <td>2011</td>\n",
       "      <td>4</td>\n",
       "      <td>0</td>\n",
       "      <td>4</td>\n",
       "      <td>3.0</td>\n",
       "      <td>192000.0</td>\n",
       "      <td>2</td>\n",
       "      <td>0</td>\n",
       "      <td>1</td>\n",
       "      <td>0</td>\n",
       "      <td>1</td>\n",
       "      <td>8</td>\n",
       "      <td>Moyen</td>\n",
       "    </tr>\n",
       "    <tr>\n",
       "      <th>3</th>\n",
       "      <td>3607</td>\n",
       "      <td>862.0</td>\n",
       "      <td>14</td>\n",
       "      <td>316</td>\n",
       "      <td>2011</td>\n",
       "      <td>4</td>\n",
       "      <td>1</td>\n",
       "      <td>2</td>\n",
       "      <td>2.5</td>\n",
       "      <td>168966.0</td>\n",
       "      <td>0</td>\n",
       "      <td>0</td>\n",
       "      <td>1</td>\n",
       "      <td>0</td>\n",
       "      <td>14</td>\n",
       "      <td>0</td>\n",
       "      <td>Moins Cher</td>\n",
       "    </tr>\n",
       "    <tr>\n",
       "      <th>4</th>\n",
       "      <td>11726</td>\n",
       "      <td>446.0</td>\n",
       "      <td>17</td>\n",
       "      <td>331</td>\n",
       "      <td>2014</td>\n",
       "      <td>3</td>\n",
       "      <td>1</td>\n",
       "      <td>4</td>\n",
       "      <td>1.3</td>\n",
       "      <td>91901.0</td>\n",
       "      <td>0</td>\n",
       "      <td>1</td>\n",
       "      <td>1</td>\n",
       "      <td>0</td>\n",
       "      <td>12</td>\n",
       "      <td>4</td>\n",
       "      <td>Moyen</td>\n",
       "    </tr>\n",
       "    <tr>\n",
       "      <th>5</th>\n",
       "      <td>39493</td>\n",
       "      <td>891.0</td>\n",
       "      <td>19</td>\n",
       "      <td>652</td>\n",
       "      <td>2016</td>\n",
       "      <td>4</td>\n",
       "      <td>1</td>\n",
       "      <td>1</td>\n",
       "      <td>2.0</td>\n",
       "      <td>160931.0</td>\n",
       "      <td>0</td>\n",
       "      <td>1</td>\n",
       "      <td>1</td>\n",
       "      <td>0</td>\n",
       "      <td>14</td>\n",
       "      <td>4</td>\n",
       "      <td>Tres Cher</td>\n",
       "    </tr>\n",
       "    <tr>\n",
       "      <th>...</th>\n",
       "      <td>...</td>\n",
       "      <td>...</td>\n",
       "      <td>...</td>\n",
       "      <td>...</td>\n",
       "      <td>...</td>\n",
       "      <td>...</td>\n",
       "      <td>...</td>\n",
       "      <td>...</td>\n",
       "      <td>...</td>\n",
       "      <td>...</td>\n",
       "      <td>...</td>\n",
       "      <td>...</td>\n",
       "      <td>...</td>\n",
       "      <td>...</td>\n",
       "      <td>...</td>\n",
       "      <td>...</td>\n",
       "      <td>...</td>\n",
       "    </tr>\n",
       "    <tr>\n",
       "      <th>19225</th>\n",
       "      <td>8781</td>\n",
       "      <td>1107.0</td>\n",
       "      <td>35</td>\n",
       "      <td>219</td>\n",
       "      <td>2007</td>\n",
       "      <td>2</td>\n",
       "      <td>0</td>\n",
       "      <td>1</td>\n",
       "      <td>1.7</td>\n",
       "      <td>236000.0</td>\n",
       "      <td>1</td>\n",
       "      <td>1</td>\n",
       "      <td>1</td>\n",
       "      <td>0</td>\n",
       "      <td>0</td>\n",
       "      <td>4</td>\n",
       "      <td>Moins Cher</td>\n",
       "    </tr>\n",
       "    <tr>\n",
       "      <th>19230</th>\n",
       "      <td>470</td>\n",
       "      <td>645.0</td>\n",
       "      <td>45</td>\n",
       "      <td>574</td>\n",
       "      <td>2011</td>\n",
       "      <td>3</td>\n",
       "      <td>1</td>\n",
       "      <td>2</td>\n",
       "      <td>1.8</td>\n",
       "      <td>307325.0</td>\n",
       "      <td>0</td>\n",
       "      <td>1</td>\n",
       "      <td>1</td>\n",
       "      <td>0</td>\n",
       "      <td>12</td>\n",
       "      <td>12</td>\n",
       "      <td>Moins Cher</td>\n",
       "    </tr>\n",
       "    <tr>\n",
       "      <th>19233</th>\n",
       "      <td>15681</td>\n",
       "      <td>831.0</td>\n",
       "      <td>19</td>\n",
       "      <td>669</td>\n",
       "      <td>2011</td>\n",
       "      <td>8</td>\n",
       "      <td>1</td>\n",
       "      <td>4</td>\n",
       "      <td>2.4</td>\n",
       "      <td>161600.0</td>\n",
       "      <td>2</td>\n",
       "      <td>1</td>\n",
       "      <td>1</td>\n",
       "      <td>0</td>\n",
       "      <td>11</td>\n",
       "      <td>8</td>\n",
       "      <td>Moyen</td>\n",
       "    </tr>\n",
       "    <tr>\n",
       "      <th>19234</th>\n",
       "      <td>26108</td>\n",
       "      <td>836.0</td>\n",
       "      <td>19</td>\n",
       "      <td>726</td>\n",
       "      <td>2010</td>\n",
       "      <td>4</td>\n",
       "      <td>1</td>\n",
       "      <td>1</td>\n",
       "      <td>2.0</td>\n",
       "      <td>116365.0</td>\n",
       "      <td>0</td>\n",
       "      <td>1</td>\n",
       "      <td>1</td>\n",
       "      <td>0</td>\n",
       "      <td>7</td>\n",
       "      <td>4</td>\n",
       "      <td>Cher</td>\n",
       "    </tr>\n",
       "    <tr>\n",
       "      <th>19236</th>\n",
       "      <td>470</td>\n",
       "      <td>753.0</td>\n",
       "      <td>19</td>\n",
       "      <td>669</td>\n",
       "      <td>2012</td>\n",
       "      <td>8</td>\n",
       "      <td>1</td>\n",
       "      <td>2</td>\n",
       "      <td>2.4</td>\n",
       "      <td>186923.0</td>\n",
       "      <td>0</td>\n",
       "      <td>1</td>\n",
       "      <td>1</td>\n",
       "      <td>0</td>\n",
       "      <td>14</td>\n",
       "      <td>12</td>\n",
       "      <td>Moins Cher</td>\n",
       "    </tr>\n",
       "  </tbody>\n",
       "</table>\n",
       "<p>10040 rows × 17 columns</p>\n",
       "</div>"
      ],
      "text/plain": [
       "       Price    Levy  Manufacturer  Model  Prod. year  Category  \\\n",
       "0      13328  1399.0            26    629        2010         4   \n",
       "1      16621  1018.0             6    313        2011         4   \n",
       "3       3607   862.0            14    316        2011         4   \n",
       "4      11726   446.0            17    331        2014         3   \n",
       "5      39493   891.0            19    652        2016         4   \n",
       "...      ...     ...           ...    ...         ...       ...   \n",
       "19225   8781  1107.0            35    219        2007         2   \n",
       "19230    470   645.0            45    574        2011         3   \n",
       "19233  15681   831.0            19    669        2011         8   \n",
       "19234  26108   836.0            19    726        2010         4   \n",
       "19236    470   753.0            19    669        2012         8   \n",
       "\n",
       "       Leather interior  Fuel type  Engine volume   Mileage  Gear box type  \\\n",
       "0                     1          2            3.5  186005.0              0   \n",
       "1                     0          4            3.0  192000.0              2   \n",
       "3                     1          2            2.5  168966.0              0   \n",
       "4                     1          4            1.3   91901.0              0   \n",
       "5                     1          1            2.0  160931.0              0   \n",
       "...                 ...        ...            ...       ...            ...   \n",
       "19225                 0          1            1.7  236000.0              1   \n",
       "19230                 1          2            1.8  307325.0              0   \n",
       "19233                 1          4            2.4  161600.0              2   \n",
       "19234                 1          1            2.0  116365.0              0   \n",
       "19236                 1          2            2.4  186923.0              0   \n",
       "\n",
       "       Drive wheels  Doors  Wheel  Color  Airbags      Classe  \n",
       "0                 0      1      0     12       12       Moyen  \n",
       "1                 0      1      0      1        8       Moyen  \n",
       "3                 0      1      0     14        0  Moins Cher  \n",
       "4                 1      1      0     12        4       Moyen  \n",
       "5                 1      1      0     14        4   Tres Cher  \n",
       "...             ...    ...    ...    ...      ...         ...  \n",
       "19225             1      1      0      0        4  Moins Cher  \n",
       "19230             1      1      0     12       12  Moins Cher  \n",
       "19233             1      1      0     11        8       Moyen  \n",
       "19234             1      1      0      7        4        Cher  \n",
       "19236             1      1      0     14       12  Moins Cher  \n",
       "\n",
       "[10040 rows x 17 columns]"
      ]
     },
     "execution_count": 482,
     "metadata": {},
     "output_type": "execute_result"
    }
   ],
   "source": [
    "#df.fillna(0, inplace=True)\n",
    "df"
   ]
  },
  {
   "cell_type": "code",
   "execution_count": 483,
   "id": "4e27e1c5",
   "metadata": {},
   "outputs": [
    {
     "data": {
      "text/plain": [
       "(10040, 17)"
      ]
     },
     "execution_count": 483,
     "metadata": {},
     "output_type": "execute_result"
    }
   ],
   "source": [
    "df.shape"
   ]
  },
  {
   "cell_type": "markdown",
   "id": "b82614a2",
   "metadata": {},
   "source": [
    "Visualisons de plus certains features :"
   ]
  },
  {
   "cell_type": "code",
   "execution_count": 484,
   "id": "abe92d30",
   "metadata": {},
   "outputs": [
    {
     "data": {
      "text/plain": [
       "\"sns.kdeplot(df.loc[df['Classe']=='Moins Cher','Cylinders'], label='Moins Cher')\\nsns.kdeplot(df.loc[df['Classe']=='Moyen','Cylinders'], label='Moyen')\\nsns.kdeplot(df.loc[df['Classe']=='Cher','Cylinders'], label='Cher')\\nsns.kdeplot(df.loc[df['Classe']=='Tres Cher','Cylinders'], label='Tres Cher')\\nplt.legend()\\nplt.show()\""
      ]
     },
     "execution_count": 484,
     "metadata": {},
     "output_type": "execute_result"
    }
   ],
   "source": [
    "\"\"\"sns.kdeplot(df.loc[df['Classe']=='Moins Cher','Cylinders'], label='Moins Cher')\n",
    "sns.kdeplot(df.loc[df['Classe']=='Moyen','Cylinders'], label='Moyen')\n",
    "sns.kdeplot(df.loc[df['Classe']=='Cher','Cylinders'], label='Cher')\n",
    "sns.kdeplot(df.loc[df['Classe']=='Tres Cher','Cylinders'], label='Tres Cher')\n",
    "plt.legend()\n",
    "plt.show()\"\"\""
   ]
  },
  {
   "cell_type": "code",
   "execution_count": 485,
   "id": "a220e755",
   "metadata": {},
   "outputs": [
    {
     "data": {
      "image/png": "[encoded data removed]",
      "text/plain": [
       "<Figure size 640x480 with 1 Axes>"
      ]
     },
     "metadata": {},
     "output_type": "display_data"
    }
   ],
   "source": [
    "sns.kdeplot(df.loc[df['Classe']=='Moins Cher','Gear box type'], label='Moins Cher')\n",
    "sns.kdeplot(df.loc[df['Classe']=='Moyen','Gear box type'], label='Moyen')\n",
    "sns.kdeplot(df.loc[df['Classe']=='Cher','Gear box type'], label='Cher')\n",
    "sns.kdeplot(df.loc[df['Classe']=='Tres Cher','Gear box type'], label='Tres Cher')\n",
    "plt.legend()\n",
    "plt.show()"
   ]
  },
  {
   "cell_type": "code",
   "execution_count": 486,
   "id": "90a27dfd",
   "metadata": {},
   "outputs": [
    {
     "data": {
      "image/png": "[encoded data removed]",
      "text/plain": [
       "<Figure size 640x480 with 1 Axes>"
      ]
     },
     "metadata": {},
     "output_type": "display_data"
    }
   ],
   "source": [
    "sns.kdeplot(df.loc[df['Classe']=='Moins Cher','Prod. year'], label='Moins Cher')\n",
    "sns.kdeplot(df.loc[df['Classe']=='Moyen','Prod. year'], label='Moyen')\n",
    "sns.kdeplot(df.loc[df['Classe']=='Cher','Prod. year'], label='Cher')\n",
    "sns.kdeplot(df.loc[df['Classe']=='Tres Cher','Prod. year'], label='Tres Cher')\n",
    "plt.legend()\n",
    "plt.show()"
   ]
  },
  {
   "cell_type": "code",
   "execution_count": 487,
   "id": "db0c76ce",
   "metadata": {},
   "outputs": [
    {
     "data": {
      "text/plain": [
       "\"df = df.drop(['Levy','Manufacturer','Model','Leather interior','Fuel type','Engine volume','Mileage','Cylinders',\\n              'Drive wheels','Wheel','Color','Gear box type','Category','Airbags'],axis=1)\""
      ]
     },
     "execution_count": 487,
     "metadata": {},
     "output_type": "execute_result"
    }
   ],
   "source": [
    "\"\"\"df = df.drop(['Levy','Manufacturer','Model','Leather interior','Fuel type','Engine volume','Mileage','Cylinders',\n",
    "              'Drive wheels','Wheel','Color','Gear box type','Category','Airbags'],axis=1)\"\"\""
   ]
  },
  {
   "cell_type": "markdown",
   "id": "36d7989a",
   "metadata": {},
   "source": [
    "## 5. Entrainement du Modèle"
   ]
  },
  {
   "cell_type": "code",
   "execution_count": 488,
   "id": "c36cd7c5",
   "metadata": {},
   "outputs": [
    {
     "data": {
      "text/html": [
       "<div>\n",
       "<style scoped>\n",
       "    .dataframe tbody tr th:only-of-type {\n",
       "        vertical-align: middle;\n",
       "    }\n",
       "\n",
       "    .dataframe tbody tr th {\n",
       "        vertical-align: top;\n",
       "    }\n",
       "\n",
       "    .dataframe thead th {\n",
       "        text-align: right;\n",
       "    }\n",
       "</style>\n",
       "<table border=\"1\" class=\"dataframe\">\n",
       "  <thead>\n",
       "    <tr style=\"text-align: right;\">\n",
       "      <th></th>\n",
       "      <th>Levy</th>\n",
       "      <th>Manufacturer</th>\n",
       "      <th>Model</th>\n",
       "      <th>Prod. year</th>\n",
       "      <th>Category</th>\n",
       "      <th>Leather interior</th>\n",
       "      <th>Fuel type</th>\n",
       "      <th>Engine volume</th>\n",
       "      <th>Mileage</th>\n",
       "      <th>Gear box type</th>\n",
       "      <th>Drive wheels</th>\n",
       "      <th>Doors</th>\n",
       "      <th>Wheel</th>\n",
       "      <th>Color</th>\n",
       "      <th>Airbags</th>\n",
       "    </tr>\n",
       "  </thead>\n",
       "  <tbody>\n",
       "    <tr>\n",
       "      <th>0</th>\n",
       "      <td>1399.0</td>\n",
       "      <td>26</td>\n",
       "      <td>629</td>\n",
       "      <td>2010</td>\n",
       "      <td>4</td>\n",
       "      <td>1</td>\n",
       "      <td>2</td>\n",
       "      <td>3.5</td>\n",
       "      <td>186005.0</td>\n",
       "      <td>0</td>\n",
       "      <td>0</td>\n",
       "      <td>1</td>\n",
       "      <td>0</td>\n",
       "      <td>12</td>\n",
       "      <td>12</td>\n",
       "    </tr>\n",
       "    <tr>\n",
       "      <th>1</th>\n",
       "      <td>1018.0</td>\n",
       "      <td>6</td>\n",
       "      <td>313</td>\n",
       "      <td>2011</td>\n",
       "      <td>4</td>\n",
       "      <td>0</td>\n",
       "      <td>4</td>\n",
       "      <td>3.0</td>\n",
       "      <td>192000.0</td>\n",
       "      <td>2</td>\n",
       "      <td>0</td>\n",
       "      <td>1</td>\n",
       "      <td>0</td>\n",
       "      <td>1</td>\n",
       "      <td>8</td>\n",
       "    </tr>\n",
       "    <tr>\n",
       "      <th>3</th>\n",
       "      <td>862.0</td>\n",
       "      <td>14</td>\n",
       "      <td>316</td>\n",
       "      <td>2011</td>\n",
       "      <td>4</td>\n",
       "      <td>1</td>\n",
       "      <td>2</td>\n",
       "      <td>2.5</td>\n",
       "      <td>168966.0</td>\n",
       "      <td>0</td>\n",
       "      <td>0</td>\n",
       "      <td>1</td>\n",
       "      <td>0</td>\n",
       "      <td>14</td>\n",
       "      <td>0</td>\n",
       "    </tr>\n",
       "    <tr>\n",
       "      <th>4</th>\n",
       "      <td>446.0</td>\n",
       "      <td>17</td>\n",
       "      <td>331</td>\n",
       "      <td>2014</td>\n",
       "      <td>3</td>\n",
       "      <td>1</td>\n",
       "      <td>4</td>\n",
       "      <td>1.3</td>\n",
       "      <td>91901.0</td>\n",
       "      <td>0</td>\n",
       "      <td>1</td>\n",
       "      <td>1</td>\n",
       "      <td>0</td>\n",
       "      <td>12</td>\n",
       "      <td>4</td>\n",
       "    </tr>\n",
       "    <tr>\n",
       "      <th>5</th>\n",
       "      <td>891.0</td>\n",
       "      <td>19</td>\n",
       "      <td>652</td>\n",
       "      <td>2016</td>\n",
       "      <td>4</td>\n",
       "      <td>1</td>\n",
       "      <td>1</td>\n",
       "      <td>2.0</td>\n",
       "      <td>160931.0</td>\n",
       "      <td>0</td>\n",
       "      <td>1</td>\n",
       "      <td>1</td>\n",
       "      <td>0</td>\n",
       "      <td>14</td>\n",
       "      <td>4</td>\n",
       "    </tr>\n",
       "    <tr>\n",
       "      <th>...</th>\n",
       "      <td>...</td>\n",
       "      <td>...</td>\n",
       "      <td>...</td>\n",
       "      <td>...</td>\n",
       "      <td>...</td>\n",
       "      <td>...</td>\n",
       "      <td>...</td>\n",
       "      <td>...</td>\n",
       "      <td>...</td>\n",
       "      <td>...</td>\n",
       "      <td>...</td>\n",
       "      <td>...</td>\n",
       "      <td>...</td>\n",
       "      <td>...</td>\n",
       "      <td>...</td>\n",
       "    </tr>\n",
       "    <tr>\n",
       "      <th>19225</th>\n",
       "      <td>1107.0</td>\n",
       "      <td>35</td>\n",
       "      <td>219</td>\n",
       "      <td>2007</td>\n",
       "      <td>2</td>\n",
       "      <td>0</td>\n",
       "      <td>1</td>\n",
       "      <td>1.7</td>\n",
       "      <td>236000.0</td>\n",
       "      <td>1</td>\n",
       "      <td>1</td>\n",
       "      <td>1</td>\n",
       "      <td>0</td>\n",
       "      <td>0</td>\n",
       "      <td>4</td>\n",
       "    </tr>\n",
       "    <tr>\n",
       "      <th>19230</th>\n",
       "      <td>645.0</td>\n",
       "      <td>45</td>\n",
       "      <td>574</td>\n",
       "      <td>2011</td>\n",
       "      <td>3</td>\n",
       "      <td>1</td>\n",
       "      <td>2</td>\n",
       "      <td>1.8</td>\n",
       "      <td>307325.0</td>\n",
       "      <td>0</td>\n",
       "      <td>1</td>\n",
       "      <td>1</td>\n",
       "      <td>0</td>\n",
       "      <td>12</td>\n",
       "      <td>12</td>\n",
       "    </tr>\n",
       "    <tr>\n",
       "      <th>19233</th>\n",
       "      <td>831.0</td>\n",
       "      <td>19</td>\n",
       "      <td>669</td>\n",
       "      <td>2011</td>\n",
       "      <td>8</td>\n",
       "      <td>1</td>\n",
       "      <td>4</td>\n",
       "      <td>2.4</td>\n",
       "      <td>161600.0</td>\n",
       "      <td>2</td>\n",
       "      <td>1</td>\n",
       "      <td>1</td>\n",
       "      <td>0</td>\n",
       "      <td>11</td>\n",
       "      <td>8</td>\n",
       "    </tr>\n",
       "    <tr>\n",
       "      <th>19234</th>\n",
       "      <td>836.0</td>\n",
       "      <td>19</td>\n",
       "      <td>726</td>\n",
       "      <td>2010</td>\n",
       "      <td>4</td>\n",
       "      <td>1</td>\n",
       "      <td>1</td>\n",
       "      <td>2.0</td>\n",
       "      <td>116365.0</td>\n",
       "      <td>0</td>\n",
       "      <td>1</td>\n",
       "      <td>1</td>\n",
       "      <td>0</td>\n",
       "      <td>7</td>\n",
       "      <td>4</td>\n",
       "    </tr>\n",
       "    <tr>\n",
       "      <th>19236</th>\n",
       "      <td>753.0</td>\n",
       "      <td>19</td>\n",
       "      <td>669</td>\n",
       "      <td>2012</td>\n",
       "      <td>8</td>\n",
       "      <td>1</td>\n",
       "      <td>2</td>\n",
       "      <td>2.4</td>\n",
       "      <td>186923.0</td>\n",
       "      <td>0</td>\n",
       "      <td>1</td>\n",
       "      <td>1</td>\n",
       "      <td>0</td>\n",
       "      <td>14</td>\n",
       "      <td>12</td>\n",
       "    </tr>\n",
       "  </tbody>\n",
       "</table>\n",
       "<p>10040 rows × 15 columns</p>\n",
       "</div>"
      ],
      "text/plain": [
       "         Levy  Manufacturer  Model  Prod. year  Category  Leather interior  \\\n",
       "0      1399.0            26    629        2010         4                 1   \n",
       "1      1018.0             6    313        2011         4                 0   \n",
       "3       862.0            14    316        2011         4                 1   \n",
       "4       446.0            17    331        2014         3                 1   \n",
       "5       891.0            19    652        2016         4                 1   \n",
       "...       ...           ...    ...         ...       ...               ...   \n",
       "19225  1107.0            35    219        2007         2                 0   \n",
       "19230   645.0            45    574        2011         3                 1   \n",
       "19233   831.0            19    669        2011         8                 1   \n",
       "19234   836.0            19    726        2010         4                 1   \n",
       "19236   753.0            19    669        2012         8                 1   \n",
       "\n",
       "       Fuel type  Engine volume   Mileage  Gear box type  Drive wheels  Doors  \\\n",
       "0              2            3.5  186005.0              0             0      1   \n",
       "1              4            3.0  192000.0              2             0      1   \n",
       "3              2            2.5  168966.0              0             0      1   \n",
       "4              4            1.3   91901.0              0             1      1   \n",
       "5              1            2.0  160931.0              0             1      1   \n",
       "...          ...            ...       ...            ...           ...    ...   \n",
       "19225          1            1.7  236000.0              1             1      1   \n",
       "19230          2            1.8  307325.0              0             1      1   \n",
       "19233          4            2.4  161600.0              2             1      1   \n",
       "19234          1            2.0  116365.0              0             1      1   \n",
       "19236          2            2.4  186923.0              0             1      1   \n",
       "\n",
       "       Wheel  Color  Airbags  \n",
       "0          0     12       12  \n",
       "1          0      1        8  \n",
       "3          0     14        0  \n",
       "4          0     12        4  \n",
       "5          0     14        4  \n",
       "...      ...    ...      ...  \n",
       "19225      0      0        4  \n",
       "19230      0     12       12  \n",
       "19233      0     11        8  \n",
       "19234      0      7        4  \n",
       "19236      0     14       12  \n",
       "\n",
       "[10040 rows x 15 columns]"
      ]
     },
     "execution_count": 488,
     "metadata": {},
     "output_type": "execute_result"
    }
   ],
   "source": [
    "X = df.drop(['Price','Classe'],axis=1)\n",
    "#X = df.drop('Classe',axis=1)\n",
    "#X=np.array(df.drop(['Price','Classe'],axis=1))\n",
    "X\n"
   ]
  },
  {
   "cell_type": "code",
   "execution_count": 489,
   "id": "3c0f51ad",
   "metadata": {},
   "outputs": [
    {
     "data": {
      "text/plain": [
       "0        13328\n",
       "1        16621\n",
       "3         3607\n",
       "4        11726\n",
       "5        39493\n",
       "         ...  \n",
       "19225     8781\n",
       "19230      470\n",
       "19233    15681\n",
       "19234    26108\n",
       "19236      470\n",
       "Name: Price, Length: 10040, dtype: int64"
      ]
     },
     "execution_count": 489,
     "metadata": {},
     "output_type": "execute_result"
    }
   ],
   "source": [
    "#Y = np.array(df[\"Price\"])\n",
    "Y = df[\"Price\"]\n",
    "\n",
    "Y"
   ]
  },
  {
   "cell_type": "code",
   "execution_count": null,
   "id": "c56b0da4",
   "metadata": {},
   "outputs": [],
   "source": []
  },
  {
   "cell_type": "code",
   "execution_count": 490,
   "id": "a848c629",
   "metadata": {},
   "outputs": [],
   "source": [
    "from sklearn.model_selection import train_test_split\n",
    "X_train, X_test, Y_train, Y_test = train_test_split(X, Y, test_size = 0.3, random_state=42)"
   ]
  },
  {
   "cell_type": "code",
   "execution_count": 491,
   "id": "b54b0860",
   "metadata": {},
   "outputs": [
    {
     "data": {
      "text/plain": [
       "'from sklearn.preprocessing import LabelEncoder\\nlabelencoder_Y = LabelEncoder()\\nY = labelencoder_Y.fit_transform(Y)'"
      ]
     },
     "execution_count": 491,
     "metadata": {},
     "output_type": "execute_result"
    }
   ],
   "source": [
    "\"\"\"from sklearn.preprocessing import LabelEncoder\n",
    "labelencoder_Y = LabelEncoder()\n",
    "Y = labelencoder_Y.fit_transform(Y)\"\"\""
   ]
  },
  {
   "cell_type": "code",
   "execution_count": 492,
   "id": "36c5932e",
   "metadata": {},
   "outputs": [],
   "source": [
    "from sklearn.preprocessing import StandardScaler\n",
    "\"\"\"sc = StandardScaler()\n",
    "X_train = sc.fit_transform(X_train)\n",
    "X_test = sc.transform(X_test)\"\"\"\n",
    "\n",
    "standardScaler = StandardScaler()\n",
    "standardScaler.fit(X_train)\n",
    "X_train = standardScaler.transform(X_train)\n",
    "X_test = standardScaler.transform(X_test)"
   ]
  },
  {
   "cell_type": "markdown",
   "id": "fe373c7f",
   "metadata": {},
   "source": [
    "Importons les bibiliothèques nécéssaires"
   ]
  },
  {
   "cell_type": "code",
   "execution_count": 493,
   "id": "ee3c9a5d",
   "metadata": {},
   "outputs": [],
   "source": [
    "import sklearn.linear_model as sk\n",
    "from sklearn.linear_model import LogisticRegression\n",
    "from sklearn.tree import DecisionTreeClassifier\n",
    "from sklearn.metrics import accuracy_score, classification_report,r2_score\n",
    "from sklearn.linear_model import LinearRegression\n",
    "from sklearn.neighbors import KNeighborsClassifier\n",
    "from sklearn.ensemble import GradientBoostingClassifier"
   ]
  },
  {
   "cell_type": "markdown",
   "id": "4415ce9e",
   "metadata": {},
   "source": [
    "## Regression Linéaire."
   ]
  },
  {
   "cell_type": "code",
   "execution_count": 494,
   "id": "1233f870",
   "metadata": {},
   "outputs": [],
   "source": [
    "classifier_LR = LinearRegression()\n",
    "classifier_LR.fit(X_train, Y_train)\n",
    "Y_pred = classifier_LR.predict(X_test)\n"
   ]
  },
  {
   "cell_type": "code",
   "execution_count": 495,
   "id": "992a7fb2",
   "metadata": {},
   "outputs": [
    {
     "name": "stdout",
     "output_type": "stream",
     "text": [
      "Le score est  :\n"
     ]
    },
    {
     "data": {
      "text/plain": [
       "0.17610114227306017"
      ]
     },
     "execution_count": 495,
     "metadata": {},
     "output_type": "execute_result"
    }
   ],
   "source": [
    "print(\"Le score est  :\")\n",
    "r2_score(Y_test,Y_pred)\n",
    "#classifier_LR.score(Y_test,Y_pred)\n",
    "#accuracy_score(Y_test,Y_pred)"
   ]
  },
  {
   "cell_type": "markdown",
   "id": "f2c0f938",
   "metadata": {},
   "source": [
    "Le score est très faible,déterminons l'erreur."
   ]
  },
  {
   "cell_type": "code",
   "execution_count": 497,
   "id": "491cb2fc",
   "metadata": {},
   "outputs": [
    {
     "name": "stdout",
     "output_type": "stream",
     "text": [
      "Le prix predit est :\n",
      "\n",
      "[53215686.01912359] \n",
      "\n",
      "Et le prix réel est :\n",
      "\n",
      "13328\n"
     ]
    }
   ],
   "source": [
    "print(\"Le prix predit est :\\n\")\n",
    "print(classifier_LR.predict([[1399.0,26,629,2010,4,1,2,3.5,186005.0,0,0,1,0,12,12]]),\"\\n\")\n",
    "\n",
    "print(\"Et le prix réel est :\\n\")\n",
    "print(df['Price'][0])"
   ]
  },
  {
   "cell_type": "code",
   "execution_count": 498,
   "id": "15b8ce05",
   "metadata": {},
   "outputs": [
    {
     "name": "stdout",
     "output_type": "stream",
     "text": [
      "L'erreur  est :\n"
     ]
    },
    {
     "data": {
      "text/plain": [
       "438930520.5808245"
      ]
     },
     "execution_count": 498,
     "metadata": {},
     "output_type": "execute_result"
    }
   ],
   "source": [
    "from sklearn.metrics import mean_squared_error\n",
    "predictions = classifier_LR.predict(X_test)\n",
    "print(\"L'erreur  est :\")\n",
    "mean_squared_error(predictions, Y_test)"
   ]
  },
  {
   "cell_type": "markdown",
   "id": "3240f318",
   "metadata": {},
   "source": [
    "### 5.2 KNeighbors Classifier"
   ]
  },
  {
   "cell_type": "code",
   "execution_count": 499,
   "id": "a601f93c",
   "metadata": {},
   "outputs": [],
   "source": [
    "classifier_KN = KNeighborsClassifier(n_neighbors = 10, metric = 'minkowski', p = 2)\n",
    "classifier_KN.fit(X_train, Y_train)\n",
    "Y_pred = classifier_KN.predict(X_test)\n"
   ]
  },
  {
   "cell_type": "code",
   "execution_count": 500,
   "id": "d5c3b1da",
   "metadata": {},
   "outputs": [
    {
     "name": "stdout",
     "output_type": "stream",
     "text": [
      "Le score est  :\n"
     ]
    },
    {
     "data": {
      "text/plain": [
       "0.10914607140922661"
      ]
     },
     "execution_count": 500,
     "metadata": {},
     "output_type": "execute_result"
    }
   ],
   "source": [
    "print(\"Le score est  :\")\n",
    "r2_score(Y_test,Y_pred)"
   ]
  },
  {
   "cell_type": "code",
   "execution_count": 501,
   "id": "ac89c329",
   "metadata": {},
   "outputs": [
    {
     "name": "stdout",
     "output_type": "stream",
     "text": [
      "le prix predit est :\n",
      "\n",
      "[2600]\n",
      "Et le prix réel est :\n",
      "\n",
      "13328\n"
     ]
    }
   ],
   "source": [
    "print(\"le prix predit est :\\n\")\n",
    "\n",
    "print(classifier_KN.predict([[1399.0,26,629,2010,4,1,2,3.5,186005.0,0,0,1,0,12,12]]))\n",
    "print(\"Et le prix réel est :\\n\")\n",
    "print(df['Price'][0])"
   ]
  },
  {
   "cell_type": "code",
   "execution_count": 502,
   "id": "7f01e9a8",
   "metadata": {},
   "outputs": [
    {
     "name": "stdout",
     "output_type": "stream",
     "text": [
      "L'erreur  est :\n"
     ]
    },
    {
     "data": {
      "text/plain": [
       "474600704.8930943"
      ]
     },
     "execution_count": 502,
     "metadata": {},
     "output_type": "execute_result"
    }
   ],
   "source": [
    "\n",
    "from sklearn.metrics import mean_squared_error\n",
    "predictions = classifier_KN.predict(X_test)\n",
    "print(\"L'erreur  est :\")\n",
    "mean_squared_error(predictions, Y_test)\n"
   ]
  },
  {
   "cell_type": "code",
   "execution_count": null,
   "id": "d0bcee49",
   "metadata": {},
   "outputs": [],
   "source": []
  },
  {
   "cell_type": "markdown",
   "id": "3eef11e9",
   "metadata": {},
   "source": [
    "## 5.7 Random Forest Classification algorithm\n"
   ]
  },
  {
   "cell_type": "code",
   "execution_count": null,
   "id": "5d56f877",
   "metadata": {},
   "outputs": [],
   "source": [
    "from sklearn import tree\n",
    "from sklearn.ensemble import RandomForestClassifier\n",
    "from sklearn.metrics import mean_squared_error\n",
    "classifier_RF = RandomForestClassifier(n_estimators = 100,max_features=7)\n",
    "classifier_RF.fit(X_train, Y_train)\n",
    "Y_pred = classifier_RF.predict(X_test)"
   ]
  },
  {
   "cell_type": "code",
   "execution_count": 504,
   "id": "322b2676",
   "metadata": {},
   "outputs": [
    {
     "name": "stdout",
     "output_type": "stream",
     "text": [
      "Le score est  :\n"
     ]
    },
    {
     "data": {
      "text/plain": [
       "0.5215625606258032"
      ]
     },
     "execution_count": 504,
     "metadata": {},
     "output_type": "execute_result"
    }
   ],
   "source": [
    "print(\"Le score est  :\")\n",
    "r2_score(Y_test,Y_pred)"
   ]
  },
  {
   "cell_type": "code",
   "execution_count": 505,
   "id": "d452ce17",
   "metadata": {},
   "outputs": [
    {
     "name": "stdout",
     "output_type": "stream",
     "text": [
      "L'erreur  est:\n"
     ]
    },
    {
     "data": {
      "text/plain": [
       "254886619.10424966"
      ]
     },
     "execution_count": 505,
     "metadata": {},
     "output_type": "execute_result"
    }
   ],
   "source": [
    "print(\"L'erreur  est:\")\n",
    "mean_squared_error(Y_test,Y_pred)\n"
   ]
  },
  {
   "cell_type": "code",
   "execution_count": 511,
   "id": "b89129b2",
   "metadata": {},
   "outputs": [
    {
     "data": {
      "text/html": [
       "<div>\n",
       "<style scoped>\n",
       "    .dataframe tbody tr th:only-of-type {\n",
       "        vertical-align: middle;\n",
       "    }\n",
       "\n",
       "    .dataframe tbody tr th {\n",
       "        vertical-align: top;\n",
       "    }\n",
       "\n",
       "    .dataframe thead th {\n",
       "        text-align: right;\n",
       "    }\n",
       "</style>\n",
       "<table border=\"1\" class=\"dataframe\">\n",
       "  <thead>\n",
       "    <tr style=\"text-align: right;\">\n",
       "      <th></th>\n",
       "      <th>Price</th>\n",
       "      <th>Levy</th>\n",
       "      <th>Manufacturer</th>\n",
       "      <th>Model</th>\n",
       "      <th>Prod. year</th>\n",
       "      <th>Category</th>\n",
       "      <th>Leather interior</th>\n",
       "      <th>Fuel type</th>\n",
       "      <th>Engine volume</th>\n",
       "      <th>Mileage</th>\n",
       "      <th>Gear box type</th>\n",
       "      <th>Drive wheels</th>\n",
       "      <th>Doors</th>\n",
       "      <th>Wheel</th>\n",
       "      <th>Color</th>\n",
       "      <th>Airbags</th>\n",
       "      <th>Classe</th>\n",
       "    </tr>\n",
       "  </thead>\n",
       "  <tbody>\n",
       "    <tr>\n",
       "      <th>0</th>\n",
       "      <td>13328</td>\n",
       "      <td>1399.0</td>\n",
       "      <td>26</td>\n",
       "      <td>629</td>\n",
       "      <td>2010</td>\n",
       "      <td>4</td>\n",
       "      <td>1</td>\n",
       "      <td>2</td>\n",
       "      <td>3.5</td>\n",
       "      <td>186005.0</td>\n",
       "      <td>0</td>\n",
       "      <td>0</td>\n",
       "      <td>1</td>\n",
       "      <td>0</td>\n",
       "      <td>12</td>\n",
       "      <td>12</td>\n",
       "      <td>Moyen</td>\n",
       "    </tr>\n",
       "    <tr>\n",
       "      <th>1</th>\n",
       "      <td>16621</td>\n",
       "      <td>1018.0</td>\n",
       "      <td>6</td>\n",
       "      <td>313</td>\n",
       "      <td>2011</td>\n",
       "      <td>4</td>\n",
       "      <td>0</td>\n",
       "      <td>4</td>\n",
       "      <td>3.0</td>\n",
       "      <td>192000.0</td>\n",
       "      <td>2</td>\n",
       "      <td>0</td>\n",
       "      <td>1</td>\n",
       "      <td>0</td>\n",
       "      <td>1</td>\n",
       "      <td>8</td>\n",
       "      <td>Moyen</td>\n",
       "    </tr>\n",
       "    <tr>\n",
       "      <th>3</th>\n",
       "      <td>3607</td>\n",
       "      <td>862.0</td>\n",
       "      <td>14</td>\n",
       "      <td>316</td>\n",
       "      <td>2011</td>\n",
       "      <td>4</td>\n",
       "      <td>1</td>\n",
       "      <td>2</td>\n",
       "      <td>2.5</td>\n",
       "      <td>168966.0</td>\n",
       "      <td>0</td>\n",
       "      <td>0</td>\n",
       "      <td>1</td>\n",
       "      <td>0</td>\n",
       "      <td>14</td>\n",
       "      <td>0</td>\n",
       "      <td>Moins Cher</td>\n",
       "    </tr>\n",
       "    <tr>\n",
       "      <th>4</th>\n",
       "      <td>11726</td>\n",
       "      <td>446.0</td>\n",
       "      <td>17</td>\n",
       "      <td>331</td>\n",
       "      <td>2014</td>\n",
       "      <td>3</td>\n",
       "      <td>1</td>\n",
       "      <td>4</td>\n",
       "      <td>1.3</td>\n",
       "      <td>91901.0</td>\n",
       "      <td>0</td>\n",
       "      <td>1</td>\n",
       "      <td>1</td>\n",
       "      <td>0</td>\n",
       "      <td>12</td>\n",
       "      <td>4</td>\n",
       "      <td>Moyen</td>\n",
       "    </tr>\n",
       "    <tr>\n",
       "      <th>5</th>\n",
       "      <td>39493</td>\n",
       "      <td>891.0</td>\n",
       "      <td>19</td>\n",
       "      <td>652</td>\n",
       "      <td>2016</td>\n",
       "      <td>4</td>\n",
       "      <td>1</td>\n",
       "      <td>1</td>\n",
       "      <td>2.0</td>\n",
       "      <td>160931.0</td>\n",
       "      <td>0</td>\n",
       "      <td>1</td>\n",
       "      <td>1</td>\n",
       "      <td>0</td>\n",
       "      <td>14</td>\n",
       "      <td>4</td>\n",
       "      <td>Tres Cher</td>\n",
       "    </tr>\n",
       "    <tr>\n",
       "      <th>...</th>\n",
       "      <td>...</td>\n",
       "      <td>...</td>\n",
       "      <td>...</td>\n",
       "      <td>...</td>\n",
       "      <td>...</td>\n",
       "      <td>...</td>\n",
       "      <td>...</td>\n",
       "      <td>...</td>\n",
       "      <td>...</td>\n",
       "      <td>...</td>\n",
       "      <td>...</td>\n",
       "      <td>...</td>\n",
       "      <td>...</td>\n",
       "      <td>...</td>\n",
       "      <td>...</td>\n",
       "      <td>...</td>\n",
       "      <td>...</td>\n",
       "    </tr>\n",
       "    <tr>\n",
       "      <th>19225</th>\n",
       "      <td>8781</td>\n",
       "      <td>1107.0</td>\n",
       "      <td>35</td>\n",
       "      <td>219</td>\n",
       "      <td>2007</td>\n",
       "      <td>2</td>\n",
       "      <td>0</td>\n",
       "      <td>1</td>\n",
       "      <td>1.7</td>\n",
       "      <td>236000.0</td>\n",
       "      <td>1</td>\n",
       "      <td>1</td>\n",
       "      <td>1</td>\n",
       "      <td>0</td>\n",
       "      <td>0</td>\n",
       "      <td>4</td>\n",
       "      <td>Moins Cher</td>\n",
       "    </tr>\n",
       "    <tr>\n",
       "      <th>19230</th>\n",
       "      <td>470</td>\n",
       "      <td>645.0</td>\n",
       "      <td>45</td>\n",
       "      <td>574</td>\n",
       "      <td>2011</td>\n",
       "      <td>3</td>\n",
       "      <td>1</td>\n",
       "      <td>2</td>\n",
       "      <td>1.8</td>\n",
       "      <td>307325.0</td>\n",
       "      <td>0</td>\n",
       "      <td>1</td>\n",
       "      <td>1</td>\n",
       "      <td>0</td>\n",
       "      <td>12</td>\n",
       "      <td>12</td>\n",
       "      <td>Moins Cher</td>\n",
       "    </tr>\n",
       "    <tr>\n",
       "      <th>19233</th>\n",
       "      <td>15681</td>\n",
       "      <td>831.0</td>\n",
       "      <td>19</td>\n",
       "      <td>669</td>\n",
       "      <td>2011</td>\n",
       "      <td>8</td>\n",
       "      <td>1</td>\n",
       "      <td>4</td>\n",
       "      <td>2.4</td>\n",
       "      <td>161600.0</td>\n",
       "      <td>2</td>\n",
       "      <td>1</td>\n",
       "      <td>1</td>\n",
       "      <td>0</td>\n",
       "      <td>11</td>\n",
       "      <td>8</td>\n",
       "      <td>Moyen</td>\n",
       "    </tr>\n",
       "    <tr>\n",
       "      <th>19234</th>\n",
       "      <td>26108</td>\n",
       "      <td>836.0</td>\n",
       "      <td>19</td>\n",
       "      <td>726</td>\n",
       "      <td>2010</td>\n",
       "      <td>4</td>\n",
       "      <td>1</td>\n",
       "      <td>1</td>\n",
       "      <td>2.0</td>\n",
       "      <td>116365.0</td>\n",
       "      <td>0</td>\n",
       "      <td>1</td>\n",
       "      <td>1</td>\n",
       "      <td>0</td>\n",
       "      <td>7</td>\n",
       "      <td>4</td>\n",
       "      <td>Cher</td>\n",
       "    </tr>\n",
       "    <tr>\n",
       "      <th>19236</th>\n",
       "      <td>470</td>\n",
       "      <td>753.0</td>\n",
       "      <td>19</td>\n",
       "      <td>669</td>\n",
       "      <td>2012</td>\n",
       "      <td>8</td>\n",
       "      <td>1</td>\n",
       "      <td>2</td>\n",
       "      <td>2.4</td>\n",
       "      <td>186923.0</td>\n",
       "      <td>0</td>\n",
       "      <td>1</td>\n",
       "      <td>1</td>\n",
       "      <td>0</td>\n",
       "      <td>14</td>\n",
       "      <td>12</td>\n",
       "      <td>Moins Cher</td>\n",
       "    </tr>\n",
       "  </tbody>\n",
       "</table>\n",
       "<p>10040 rows × 17 columns</p>\n",
       "</div>"
      ],
      "text/plain": [
       "       Price    Levy  Manufacturer  Model  Prod. year  Category  \\\n",
       "0      13328  1399.0            26    629        2010         4   \n",
       "1      16621  1018.0             6    313        2011         4   \n",
       "3       3607   862.0            14    316        2011         4   \n",
       "4      11726   446.0            17    331        2014         3   \n",
       "5      39493   891.0            19    652        2016         4   \n",
       "...      ...     ...           ...    ...         ...       ...   \n",
       "19225   8781  1107.0            35    219        2007         2   \n",
       "19230    470   645.0            45    574        2011         3   \n",
       "19233  15681   831.0            19    669        2011         8   \n",
       "19234  26108   836.0            19    726        2010         4   \n",
       "19236    470   753.0            19    669        2012         8   \n",
       "\n",
       "       Leather interior  Fuel type  Engine volume   Mileage  Gear box type  \\\n",
       "0                     1          2            3.5  186005.0              0   \n",
       "1                     0          4            3.0  192000.0              2   \n",
       "3                     1          2            2.5  168966.0              0   \n",
       "4                     1          4            1.3   91901.0              0   \n",
       "5                     1          1            2.0  160931.0              0   \n",
       "...                 ...        ...            ...       ...            ...   \n",
       "19225                 0          1            1.7  236000.0              1   \n",
       "19230                 1          2            1.8  307325.0              0   \n",
       "19233                 1          4            2.4  161600.0              2   \n",
       "19234                 1          1            2.0  116365.0              0   \n",
       "19236                 1          2            2.4  186923.0              0   \n",
       "\n",
       "       Drive wheels  Doors  Wheel  Color  Airbags      Classe  \n",
       "0                 0      1      0     12       12       Moyen  \n",
       "1                 0      1      0      1        8       Moyen  \n",
       "3                 0      1      0     14        0  Moins Cher  \n",
       "4                 1      1      0     12        4       Moyen  \n",
       "5                 1      1      0     14        4   Tres Cher  \n",
       "...             ...    ...    ...    ...      ...         ...  \n",
       "19225             1      1      0      0        4  Moins Cher  \n",
       "19230             1      1      0     12       12  Moins Cher  \n",
       "19233             1      1      0     11        8       Moyen  \n",
       "19234             1      1      0      7        4        Cher  \n",
       "19236             1      1      0     14       12  Moins Cher  \n",
       "\n",
       "[10040 rows x 17 columns]"
      ]
     },
     "execution_count": 511,
     "metadata": {},
     "output_type": "execute_result"
    }
   ],
   "source": [
    "df"
   ]
  },
  {
   "cell_type": "code",
   "execution_count": 512,
   "id": "cd4c3fb6",
   "metadata": {},
   "outputs": [
    {
     "name": "stdout",
     "output_type": "stream",
     "text": [
      "le prix predit est\n",
      "[6429]\n",
      "Et le prix réel est :\n",
      "13328\n"
     ]
    }
   ],
   "source": [
    "print(\"le prix predit est\")\n",
    "\n",
    "print(classifier_RF.predict([[1399.0,26,629,2010,4,1,2,3.5,186005.0,0,0,1,0,12,12]]))\n",
    "print(\"Et le prix réel est :\")\n",
    "print(df['Price'][0])"
   ]
  },
  {
   "cell_type": "code",
   "execution_count": 513,
   "id": "529c1f2a",
   "metadata": {},
   "outputs": [
    {
     "name": "stdout",
     "output_type": "stream",
     "text": [
      "L'erreur  est :\n"
     ]
    },
    {
     "data": {
      "text/plain": [
       "254886619.10424966"
      ]
     },
     "execution_count": 513,
     "metadata": {},
     "output_type": "execute_result"
    }
   ],
   "source": [
    "\n",
    "from sklearn.metrics import mean_squared_error\n",
    "predictions = classifier_RF.predict(X_test)\n",
    "print(\"L'erreur  est :\")\n",
    "mean_squared_error(predictions, Y_test)\n"
   ]
  },
  {
   "cell_type": "markdown",
   "id": "43d39165",
   "metadata": {},
   "source": [
    "## 5.6 Decision Tree Algorithm\n"
   ]
  },
  {
   "cell_type": "code",
   "execution_count": 514,
   "id": "322cc399",
   "metadata": {},
   "outputs": [],
   "source": [
    "from sklearn.tree import DecisionTreeClassifier\n",
    "classifier_DT = DecisionTreeClassifier(criterion = 'entropy', random_state = 0)\n",
    "classifier_DT.fit(X_train, Y_train)\n",
    "Y_pred = classifier_DT.predict(X_test)\n"
   ]
  },
  {
   "cell_type": "code",
   "execution_count": 515,
   "id": "2135c87b",
   "metadata": {},
   "outputs": [
    {
     "name": "stdout",
     "output_type": "stream",
     "text": [
      "Le score est  :\n"
     ]
    },
    {
     "data": {
      "text/plain": [
       "0.1142437884253934"
      ]
     },
     "execution_count": 515,
     "metadata": {},
     "output_type": "execute_result"
    }
   ],
   "source": [
    "print(\"Le score est  :\")\n",
    "\n",
    "r2_score(Y_test,Y_pred)"
   ]
  },
  {
   "cell_type": "code",
   "execution_count": 516,
   "id": "4e346f0d",
   "metadata": {},
   "outputs": [
    {
     "name": "stdout",
     "output_type": "stream",
     "text": [
      "le prix predit est :\n",
      "\n",
      "[11133]\n",
      "Et le prix réel est :\n",
      "\n",
      "13328\n"
     ]
    }
   ],
   "source": [
    "print(\"le prix predit est :\\n\")\n",
    "print(classifier_DT.predict([[1399.0,26,629,2010,4,1,2,3.5,186005.0,0,0,1,0,12,12]]))\n",
    "\n",
    "print(\"Et le prix réel est :\\n\")\n",
    "print(df['Price'][0])"
   ]
  },
  {
   "cell_type": "code",
   "execution_count": 517,
   "id": "9714fbef",
   "metadata": {},
   "outputs": [
    {
     "name": "stdout",
     "output_type": "stream",
     "text": [
      "L'erreur  est :\n"
     ]
    },
    {
     "data": {
      "text/plain": [
       "471884906.0268924"
      ]
     },
     "execution_count": 517,
     "metadata": {},
     "output_type": "execute_result"
    }
   ],
   "source": [
    "\n",
    "from sklearn.metrics import mean_squared_error\n",
    "predictions = classifier_DT.predict(X_test)\n",
    "print(\"L'erreur  est :\")\n",
    "mean_squared_error(predictions, Y_test)\n"
   ]
  },
  {
   "cell_type": "code",
   "execution_count": null,
   "id": "61befede",
   "metadata": {},
   "outputs": [],
   "source": []
  },
  {
   "cell_type": "code",
   "execution_count": null,
   "id": "e2ce0783",
   "metadata": {},
   "outputs": [],
   "source": []
  },
  {
   "cell_type": "code",
   "execution_count": null,
   "id": "ab71ce5b",
   "metadata": {},
   "outputs": [],
   "source": []
  },
  {
   "cell_type": "markdown",
   "id": "142ad074",
   "metadata": {},
   "source": [
    "## BaggingRegressor"
   ]
  },
  {
   "cell_type": "code",
   "execution_count": 518,
   "id": "ed6b5506",
   "metadata": {},
   "outputs": [],
   "source": [
    "from sklearn.ensemble import BaggingRegressor\n",
    "bagging_reg = BaggingRegressor(random_state=42)\n",
    "bagging_reg.fit(X_train, Y_train)\n",
    "Y_pred = bagging_reg.predict(X_test)"
   ]
  },
  {
   "cell_type": "code",
   "execution_count": 519,
   "id": "88e4d249",
   "metadata": {},
   "outputs": [
    {
     "name": "stdout",
     "output_type": "stream",
     "text": [
      "Le score est  :\n"
     ]
    },
    {
     "data": {
      "text/plain": [
       "0.4145448961918424"
      ]
     },
     "execution_count": 519,
     "metadata": {},
     "output_type": "execute_result"
    }
   ],
   "source": [
    "print(\"Le score est  :\")\n",
    "\n",
    "r2_score(Y_test,Y_pred)"
   ]
  },
  {
   "cell_type": "code",
   "execution_count": 520,
   "id": "d3877946",
   "metadata": {},
   "outputs": [
    {
     "name": "stdout",
     "output_type": "stream",
     "text": [
      "le prix predit est :\n",
      "\n",
      "[77116.8]\n",
      "Et le prix réel est : \n",
      "\n",
      "13328\n"
     ]
    }
   ],
   "source": [
    "print(\"le prix predit est :\\n\")\n",
    "print(bagging_reg.predict([[1399.0,26,629,2010,4,1,2,3.5,186005.0,0,0,1,0,12,12]]))\n",
    "\n",
    "\n",
    "print(\"Et le prix réel est : \\n\")\n",
    "print(df['Price'][0])"
   ]
  },
  {
   "cell_type": "code",
   "execution_count": 521,
   "id": "457bace5",
   "metadata": {},
   "outputs": [
    {
     "name": "stdout",
     "output_type": "stream",
     "text": [
      "L'erreur  est :\n"
     ]
    },
    {
     "data": {
      "text/plain": [
       "311900072.54067916"
      ]
     },
     "execution_count": 521,
     "metadata": {},
     "output_type": "execute_result"
    }
   ],
   "source": [
    "\n",
    "from sklearn.metrics import mean_squared_error\n",
    "predictions = bagging_reg.predict(X_test)\n",
    "print(\"L'erreur  est :\")\n",
    "mean_squared_error(predictions, Y_test)\n"
   ]
  },
  {
   "cell_type": "markdown",
   "id": "102ced0f",
   "metadata": {},
   "source": [
    "##  Gradient BoostClassifier"
   ]
  },
  {
   "cell_type": "code",
   "execution_count": 352,
   "id": "d15e8b8f",
   "metadata": {},
   "outputs": [
    {
     "ename": "NameError",
     "evalue": "name 'model' is not defined",
     "output_type": "error",
     "traceback": [
      "\u001b[0;31m---------------------------------------------------------------------------\u001b[0m",
      "\u001b[0;31mNameError\u001b[0m                                 Traceback (most recent call last)",
      "Cell \u001b[0;32mIn[352], line 2\u001b[0m\n\u001b[1;32m      1\u001b[0m \u001b[38;5;28;01mimport\u001b[39;00m \u001b[38;5;21;01mjoblib\u001b[39;00m  \n\u001b[0;32m----> 2\u001b[0m joblib\u001b[38;5;241m.\u001b[39mdump(\u001b[43mmodel\u001b[49m, \u001b[38;5;124m\"\u001b[39m\u001b[38;5;124mcar_price_prediction.pkl\u001b[39m\u001b[38;5;124m\"\u001b[39m)\n",
      "\u001b[0;31mNameError\u001b[0m: name 'model' is not defined"
     ]
    }
   ],
   "source": [
    "import joblib  \n",
    "joblib.dump(model, \"car_price_prediction.pkl\")"
   ]
  },
  {
   "cell_type": "code",
   "execution_count": null,
   "id": "ff1a4a1d",
   "metadata": {},
   "outputs": [],
   "source": [
    "print(model.predict([[113,26,629,2010,4,1,2,52,186005.0,6.0,0,0,0,12,12]]))\n"
   ]
  },
  {
   "cell_type": "code",
   "execution_count": null,
   "id": "500192d7",
   "metadata": {},
   "outputs": [],
   "source": [
    "import pickle\n",
    "with open (\"car_price_prediction.pkl\",\"wb\") as file :\n",
    "    pickle.dump(model,file)\n",
    "    "
   ]
  },
  {
   "cell_type": "code",
   "execution_count": null,
   "id": "286c2b6f",
   "metadata": {},
   "outputs": [],
   "source": []
  },
  {
   "cell_type": "code",
   "execution_count": null,
   "id": "99740f64",
   "metadata": {},
   "outputs": [],
   "source": []
  },
  {
   "cell_type": "code",
   "execution_count": null,
   "id": "e3335ac5",
   "metadata": {},
   "outputs": [],
   "source": []
  }
 ],
 "metadata": {
  "kernelspec": {
   "display_name": "Python 3 (ipykernel)",
   "language": "python",
   "name": "python3"
  },
  "language_info": {
   "codemirror_mode": {
    "name": "ipython",
    "version": 3
   },
   "file_extension": ".py",
   "mimetype": "text/x-python",
   "name": "python",
   "nbconvert_exporter": "python",
   "pygments_lexer": "ipython3",
   "version": "3.10.9"
  }
 },
 "nbformat": 4,
 "nbformat_minor": 5
}
