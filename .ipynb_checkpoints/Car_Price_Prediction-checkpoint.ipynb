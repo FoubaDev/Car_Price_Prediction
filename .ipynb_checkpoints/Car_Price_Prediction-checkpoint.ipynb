{
 "cells": [
  {
   "cell_type": "markdown",
   "id": "2f6d29d9",
   "metadata": {},
   "source": [
    "# Prédiction du prix des voitures à travers une application Web\n",
    "À partir des données concernant les voitures, faisons un modèle de Machine Learning permettant de prédire le prix des voitures et déployer ce modèle."
   ]
  },
  {
   "cell_type": "markdown",
   "id": "2c0f9798",
   "metadata": {},
   "source": [
    "## 1. Lecture de données"
   ]
  },
  {
   "cell_type": "code",
   "execution_count": null,
   "id": "04047436",
   "metadata": {},
   "outputs": [],
   "source": [
    "import numpy as np\n",
    "import pandas as pd\n",
    "import matplotlib.pyplot as plt\n",
    "import seaborn as sns\n",
    "from sklearn.model_selection import train_test_split\n",
    "from sklearn.linear_model import LinearRegression\n",
    "import warnings\n",
    "warnings.filterwarnings(\"ignore\")"
   ]
  },
  {
   "cell_type": "code",
   "execution_count": null,
   "id": "4b277f51",
   "metadata": {},
   "outputs": [],
   "source": [
    "df = pd.read_csv(\"car_price_prediction.csv\")\n",
    "df.head()"
   ]
  },
  {
   "cell_type": "code",
   "execution_count": null,
   "id": "a8be01d4",
   "metadata": {},
   "outputs": [],
   "source": [
    "df.dtypes"
   ]
  },
  {
   "cell_type": "code",
   "execution_count": null,
   "id": "35846811",
   "metadata": {},
   "outputs": [],
   "source": [
    "df.describe(include='all')"
   ]
  },
  {
   "cell_type": "markdown",
   "id": "d0453aa7",
   "metadata": {},
   "source": [
    "## 2. Analyse Exploratoire et Visualisation des données"
   ]
  },
  {
   "cell_type": "code",
   "execution_count": null,
   "id": "0a5e46c7",
   "metadata": {},
   "outputs": [],
   "source": [
    "df['Price'].unique()"
   ]
  },
  {
   "cell_type": "code",
   "execution_count": null,
   "id": "c8c9be58",
   "metadata": {},
   "outputs": [],
   "source": [
    "import matplotlib.pyplot as plt\n",
    "import seaborn as sns\n",
    "\n"
   ]
  },
  {
   "cell_type": "code",
   "execution_count": null,
   "id": "e112aa7f",
   "metadata": {},
   "outputs": [],
   "source": [
    "plt.hist(df[\"Price\"])\n",
    "# Afficher le graphique\n",
    "plt.show()"
   ]
  },
  {
   "cell_type": "code",
   "execution_count": null,
   "id": "02744817",
   "metadata": {},
   "outputs": [],
   "source": [
    "plt.figure(figsize = (20, 15))\n",
    "sns.countplot(y = df['Manufacturer'])\n",
    "plt.title(\"Car companies with their cars\", fontsize = 20)\n",
    "plt.show()"
   ]
  },
  {
   "cell_type": "code",
   "execution_count": null,
   "id": "d0c49f7a",
   "metadata": {},
   "outputs": [],
   "source": [
    "# on convertit les features en une liste de columns\n",
    "columns = df.columns.tolist()\n",
    "columns"
   ]
  },
  {
   "cell_type": "code",
   "execution_count": null,
   "id": "13e7f03b",
   "metadata": {},
   "outputs": [],
   "source": [
    "plt.figure(figsize=(16,38))\n",
    "\n",
    "for i, col in enumerate(columns, 1):\n",
    "    plt.subplot(8,4,i)\n",
    "    sns.kdeplot(df[col], color = '#d1aa00', fill = True, warn_singular=False)\n",
    "    plt.subplot(8,4,i+11)\n",
    "    df[col].plot.box()\n",
    "plt.tight_layout()\n",
    "plt.show()\n"
   ]
  },
  {
   "cell_type": "code",
   "execution_count": null,
   "id": "01da56d4",
   "metadata": {},
   "outputs": [],
   "source": [
    "df = pd.get_dummies(df)\n",
    "df.head()"
   ]
  },
  {
   "cell_type": "markdown",
   "id": "90ecda54",
   "metadata": {},
   "source": [
    "Supprimons la colonne ID"
   ]
  },
  {
   "cell_type": "code",
   "execution_count": null,
   "id": "155402bc",
   "metadata": {},
   "outputs": [],
   "source": [
    "df.drop('ID', inplace=True, axis=1)"
   ]
  },
  {
   "cell_type": "code",
   "execution_count": null,
   "id": "7c734f7b",
   "metadata": {},
   "outputs": [],
   "source": [
    "df.head()"
   ]
  },
  {
   "cell_type": "code",
   "execution_count": null,
   "id": "3b555ff7",
   "metadata": {},
   "outputs": [],
   "source": [
    "df.describe(include = 'all')"
   ]
  },
  {
   "cell_type": "markdown",
   "id": "4387a6c7",
   "metadata": {},
   "source": [
    "De ce fait ,nous pouvons le vérifier dans la liste de colonnes ci-dessous."
   ]
  },
  {
   "cell_type": "code",
   "execution_count": null,
   "id": "8450268d",
   "metadata": {},
   "outputs": [],
   "source": [
    "columns = df.columns.tolist()\n",
    "columns"
   ]
  },
  {
   "cell_type": "code",
   "execution_count": null,
   "id": "1ab19281",
   "metadata": {},
   "outputs": [],
   "source": []
  },
  {
   "cell_type": "markdown",
   "id": "7253e76a",
   "metadata": {},
   "source": [
    "Sur le rendu ci-dessous, on voit qu'il ya des  outliers. Examinons de près grâce à la rélation entre Skewness et Kurtosis."
   ]
  },
  {
   "cell_type": "code",
   "execution_count": null,
   "id": "96a30a4e",
   "metadata": {
    "scrolled": true
   },
   "outputs": [],
   "source": [
    "pd.DataFrame(data=[df[columns].skew(),df[columns].kurtosis()],index=['skewness','kurtosis'])"
   ]
  },
  {
   "cell_type": "code",
   "execution_count": null,
   "id": "ea527b24",
   "metadata": {},
   "outputs": [],
   "source": [
    "from scipy.stats import zscore\n",
    "for i in columns:\n",
    "    y_outliers = df[abs(zscore(df[i])) >= 3 ]\n",
    "    print('Le nombre des outliers de ',i,'est ',len(y_outliers))\n",
    "    y_outliers\n",
    "    \n"
   ]
  },
  {
   "cell_type": "markdown",
   "id": "5b81cc13",
   "metadata": {},
   "source": [
    "Maintenant, mettons le prix suivant une classe ( __Moins chèr,Moyen, Chèr et Très Chèr__)."
   ]
  },
  {
   "cell_type": "code",
   "execution_count": null,
   "id": "98810a3c",
   "metadata": {},
   "outputs": [],
   "source": [
    "df['Price'].describe()"
   ]
  },
  {
   "cell_type": "code",
   "execution_count": null,
   "id": "3a90d619",
   "metadata": {},
   "outputs": [],
   "source": [
    "print((1.855593e+04)+9278.965)"
   ]
  },
  {
   "cell_type": "code",
   "execution_count": null,
   "id": "05fbf0e4",
   "metadata": {},
   "outputs": [],
   "source": [
    "def price_class(Price):\n",
    "    if (Price >=1 and Price<=9278.965):\n",
    "        return \"Moins Cher\"\n",
    "    elif (Price > 9278.965 and Price<=1.855593e+04):\n",
    "        return \"Moyen\"\n",
    "    elif (Price >1.855593e+04  and Price<=27834.895):\n",
    "        return \"Cher\"\n",
    "    else:\n",
    "        return \"Tres Cher\"\n",
    "\n",
    "df['Classe'] = df['Price'].apply(price_class)\n",
    "df.sample(frac=1).head(10)"
   ]
  },
  {
   "cell_type": "code",
   "execution_count": null,
   "id": "690be723",
   "metadata": {},
   "outputs": [],
   "source": [
    "df['Classe'].value_counts()"
   ]
  },
  {
   "cell_type": "code",
   "execution_count": null,
   "id": "ac678f4c",
   "metadata": {},
   "outputs": [],
   "source": [
    "import seaborn as sns\n",
    "f = plt.figure(figsize=(14,12))\n",
    "sns.set()\n",
    "sns.heatmap(df.corr(), annot=True, cmap='coolwarm')"
   ]
  },
  {
   "cell_type": "markdown",
   "id": "eadb92f6",
   "metadata": {},
   "source": [
    "## 3. Traitement des Valeurs abbérrantes\n",
    "\n",
    "Vérifions si notre dataset ne comporte pas de  valeurs nulles\n"
   ]
  },
  {
   "cell_type": "code",
   "execution_count": null,
   "id": "91c08c0e",
   "metadata": {},
   "outputs": [],
   "source": [
    "df.isnull().sum()"
   ]
  },
  {
   "cell_type": "code",
   "execution_count": null,
   "id": "a582cebe",
   "metadata": {},
   "outputs": [],
   "source": [
    "df.isna().sum()"
   ]
  },
  {
   "cell_type": "code",
   "execution_count": null,
   "id": "b5b391d3",
   "metadata": {},
   "outputs": [],
   "source": [
    "df.duplicated()"
   ]
  },
  {
   "cell_type": "code",
   "execution_count": null,
   "id": "90e483f7",
   "metadata": {},
   "outputs": [],
   "source": [
    "df.dropna(inplace=True)"
   ]
  },
  {
   "cell_type": "code",
   "execution_count": null,
   "id": "b301f4e5",
   "metadata": {},
   "outputs": [],
   "source": [
    "df.drop_duplicates(inplace=True)"
   ]
  },
  {
   "cell_type": "code",
   "execution_count": null,
   "id": "1f1a9e32",
   "metadata": {},
   "outputs": [],
   "source": [
    "df.head()"
   ]
  },
  {
   "cell_type": "markdown",
   "id": "8cc313a8",
   "metadata": {},
   "source": [
    "Supprimons certaines colonnes ."
   ]
  },
  {
   "cell_type": "code",
   "execution_count": null,
   "id": "a220e755",
   "metadata": {},
   "outputs": [],
   "source": [
    "df.drop('Doors', inplace=True, axis=1)\n",
    "df.drop('Wheel', inplace=True, axis=1)\n",
    "df.drop('Leather interior', inplace=True, axis=1)\n",
    "df.drop('Levy', inplace=True, axis=1)"
   ]
  },
  {
   "cell_type": "markdown",
   "id": "36d7989a",
   "metadata": {},
   "source": [
    "## 5. Entrainement du Modèle"
   ]
  },
  {
   "cell_type": "code",
   "execution_count": null,
   "id": "c36cd7c5",
   "metadata": {},
   "outputs": [],
   "source": [
    "X = df.iloc[:, 1:12].values\n",
    "Y = df.iloc[:, 12].values"
   ]
  },
  {
   "cell_type": "code",
   "execution_count": null,
   "id": "a848c629",
   "metadata": {},
   "outputs": [],
   "source": [
    "from sklearn.model_selection import train_test_split\n",
    "X_train, X_test, Y_train, Y_test = train_test_split(X, Y, test_size = 0.25, random_state = 0)"
   ]
  },
  {
   "cell_type": "code",
   "execution_count": null,
   "id": "9c7e3723",
   "metadata": {},
   "outputs": [],
   "source": [
    "from sklearn.preprocessing import LabelEncoder\n",
    "labelencoder_Y = LabelEncoder()\n",
    "Y = labelencoder_Y.fit_transform(Y)"
   ]
  },
  {
   "cell_type": "code",
   "execution_count": null,
   "id": "a004f280",
   "metadata": {},
   "outputs": [],
   "source": [
    "from sklearn.preprocessing import StandardScaler\n",
    "sc = StandardScaler()\n",
    "X_train = sc.fit_transform(X_train)\n",
    "X_test = sc.transform(X_test)"
   ]
  },
  {
   "cell_type": "markdown",
   "id": "07e99618",
   "metadata": {},
   "source": [
    "#### La matrice de confusion\n",
    "La matrice de confusion est un outil de mesure de la performance des modèles de classification à 2 classes ou plus. "
   ]
  },
  {
   "attachments": {
    "image.png": {
     "image/png": "[encoded data removed]"
    }
   },
   "cell_type": "markdown",
   "id": "6966c480",
   "metadata": {},
   "source": [
    "![image.png](attachment:image.png)"
   ]
  },
  {
   "cell_type": "markdown",
   "id": "fe373c7f",
   "metadata": {},
   "source": [
    "Importons les bibiliothèques nécéssaires"
   ]
  },
  {
   "cell_type": "code",
   "execution_count": null,
   "id": "ee3c9a5d",
   "metadata": {},
   "outputs": [],
   "source": [
    "import sklearn.linear_model as sk\n",
    "from sklearn.linear_model import LogisticRegression\n",
    "from sklearn.linear_model import LinearRegression\n",
    "from sklearn.neighbors import KNeighborsClassifier"
   ]
  },
  {
   "cell_type": "markdown",
   "id": "4415ce9e",
   "metadata": {},
   "source": [
    "## Regression Linéaire."
   ]
  },
  {
   "cell_type": "code",
   "execution_count": null,
   "id": "1233f870",
   "metadata": {},
   "outputs": [],
   "source": [
    "classifier_LR = LinearRegression()\n",
    "classifier_LR.fit(X_train, Y_train)"
   ]
  },
  {
   "cell_type": "code",
   "execution_count": null,
   "id": "3d127ac5",
   "metadata": {},
   "outputs": [],
   "source": [
    "print(\"Le score est  :\")\n",
    "classifier_LR.score(X_test, Y_test)"
   ]
  },
  {
   "cell_type": "markdown",
   "id": "f2c0f938",
   "metadata": {},
   "source": [
    "Le score est très faible,déterminons l'erreur."
   ]
  },
  {
   "cell_type": "code",
   "execution_count": null,
   "id": "3e77b16d",
   "metadata": {},
   "outputs": [],
   "source": [
    "from sklearn.linear_model import LinearRegression\n",
    "model = LinearRegression()\n",
    "model.fit(X_train, Y_train)"
   ]
  },
  {
   "cell_type": "code",
   "execution_count": null,
   "id": "77f88951",
   "metadata": {},
   "outputs": [],
   "source": [
    "from sklearn.metrics import mean_squared_error\n",
    "predictions = model.predict(X_test)\n",
    "print(\"L'erreur  est :\")\n",
    "mean_squared_error(predictions, Y_test)"
   ]
  },
  {
   "cell_type": "markdown",
   "id": "cff272bf",
   "metadata": {},
   "source": [
    "### 5.1 Regression Logistique."
   ]
  },
  {
   "cell_type": "code",
   "execution_count": null,
   "id": "09c8d32a",
   "metadata": {},
   "outputs": [],
   "source": [
    "\n",
    "classifier_LR = LogisticRegression(random_state = 0)\n",
    "classifier_LR.fit(X_train, Y_train)\n"
   ]
  },
  {
   "cell_type": "code",
   "execution_count": null,
   "id": "5dc11b30",
   "metadata": {},
   "outputs": [],
   "source": [
    "print(\"Le score est  :\")\n",
    "classifier_LR.score(X_test, Y_test)"
   ]
  },
  {
   "cell_type": "code",
   "execution_count": null,
   "id": "be01e5e5",
   "metadata": {},
   "outputs": [],
   "source": [
    "Y_pred = classifier_LR.predict(X_test)"
   ]
  },
  {
   "cell_type": "markdown",
   "id": "47e60dae",
   "metadata": {},
   "source": [
    "Déterminons la valeur de l'erreur."
   ]
  },
  {
   "cell_type": "code",
   "execution_count": null,
   "id": "84997465",
   "metadata": {},
   "outputs": [],
   "source": [
    "from sklearn.linear_model import LogisticRegression\n",
    "model = LogisticRegression(random_state=0)\n",
    "model.fit(X_train, Y_train)"
   ]
  },
  {
   "cell_type": "code",
   "execution_count": null,
   "id": "c76934ab",
   "metadata": {},
   "outputs": [],
   "source": [
    "from sklearn.metrics import mean_squared_error\n",
    "predictions = model.predict(X_test)\n",
    "print(\"L'erreur est :\")\n",
    "mean_squared_error(predictions, Y_test)"
   ]
  },
  {
   "cell_type": "code",
   "execution_count": null,
   "id": "1a1096b1",
   "metadata": {},
   "outputs": [],
   "source": []
  },
  {
   "cell_type": "code",
   "execution_count": null,
   "id": "963fad78",
   "metadata": {},
   "outputs": [],
   "source": []
  },
  {
   "cell_type": "code",
   "execution_count": null,
   "id": "103802a3",
   "metadata": {},
   "outputs": [],
   "source": []
  },
  {
   "cell_type": "code",
   "execution_count": null,
   "id": "a5165fd5",
   "metadata": {},
   "outputs": [],
   "source": []
  },
  {
   "cell_type": "code",
   "execution_count": null,
   "id": "a3ec1bd6",
   "metadata": {},
   "outputs": [],
   "source": []
  },
  {
   "cell_type": "code",
   "execution_count": null,
   "id": "a601f93c",
   "metadata": {},
   "outputs": [],
   "source": []
  },
  {
   "cell_type": "code",
   "execution_count": null,
   "id": "d5c3b1da",
   "metadata": {},
   "outputs": [],
   "source": []
  },
  {
   "cell_type": "code",
   "execution_count": null,
   "id": "f5d07ed3",
   "metadata": {},
   "outputs": [],
   "source": []
  }
 ],
 "metadata": {
  "kernelspec": {
   "display_name": "Python 3 (ipykernel)",
   "language": "python",
   "name": "python3"
  },
  "language_info": {
   "codemirror_mode": {
    "name": "ipython",
    "version": 3
   },
   "file_extension": ".py",
   "mimetype": "text/x-python",
   "name": "python",
   "nbconvert_exporter": "python",
   "pygments_lexer": "ipython3",
   "version": "3.10.9"
  }
 },
 "nbformat": 4,
 "nbformat_minor": 5
}
