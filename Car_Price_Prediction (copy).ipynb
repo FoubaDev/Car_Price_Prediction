{
 "cells": [
  {
   "cell_type": "markdown",
   "id": "2f6d29d9",
   "metadata": {},
   "source": [
    "# Prédiction du prix des voitures à travers une application Web\n",
    "À partir des données concernant les voitures, faisons un modèle de Machine Learning permettant de prédire le prix des voitures et déployer ce modèle."
   ]
  },
  {
   "cell_type": "markdown",
   "id": "2c0f9798",
   "metadata": {},
   "source": [
    "## 1. Lecture de données"
   ]
  },
  {
   "cell_type": "code",
   "execution_count": 1,
   "id": "04047436",
   "metadata": {},
   "outputs": [],
   "source": [
    "import numpy as np\n",
    "import pandas as pd\n",
    "import matplotlib.pyplot as plt\n",
    "import seaborn as sns\n",
    "from sklearn.model_selection import train_test_split\n",
    "from sklearn.linear_model import LinearRegression"
   ]
  },
  {
   "cell_type": "code",
   "execution_count": 2,
   "id": "4b277f51",
   "metadata": {},
   "outputs": [
    {
     "data": {
      "text/html": [
       "<div>\n",
       "<style scoped>\n",
       "    .dataframe tbody tr th:only-of-type {\n",
       "        vertical-align: middle;\n",
       "    }\n",
       "\n",
       "    .dataframe tbody tr th {\n",
       "        vertical-align: top;\n",
       "    }\n",
       "\n",
       "    .dataframe thead th {\n",
       "        text-align: right;\n",
       "    }\n",
       "</style>\n",
       "<table border=\"1\" class=\"dataframe\">\n",
       "  <thead>\n",
       "    <tr style=\"text-align: right;\">\n",
       "      <th></th>\n",
       "      <th>ID</th>\n",
       "      <th>Price</th>\n",
       "      <th>Levy</th>\n",
       "      <th>Manufacturer</th>\n",
       "      <th>Model</th>\n",
       "      <th>Prod. year</th>\n",
       "      <th>Category</th>\n",
       "      <th>Leather interior</th>\n",
       "      <th>Fuel type</th>\n",
       "      <th>Engine volume</th>\n",
       "      <th>Mileage</th>\n",
       "      <th>Cylinders</th>\n",
       "      <th>Gear box type</th>\n",
       "      <th>Drive wheels</th>\n",
       "      <th>Doors</th>\n",
       "      <th>Wheel</th>\n",
       "      <th>Color</th>\n",
       "      <th>Airbags</th>\n",
       "    </tr>\n",
       "  </thead>\n",
       "  <tbody>\n",
       "    <tr>\n",
       "      <th>0</th>\n",
       "      <td>45654403</td>\n",
       "      <td>13328</td>\n",
       "      <td>1399</td>\n",
       "      <td>LEXUS</td>\n",
       "      <td>RX 450</td>\n",
       "      <td>2010</td>\n",
       "      <td>Jeep</td>\n",
       "      <td>Yes</td>\n",
       "      <td>Hybrid</td>\n",
       "      <td>3.5</td>\n",
       "      <td>186005 km</td>\n",
       "      <td>6.0</td>\n",
       "      <td>Automatic</td>\n",
       "      <td>4x4</td>\n",
       "      <td>04-May</td>\n",
       "      <td>Left wheel</td>\n",
       "      <td>Silver</td>\n",
       "      <td>12</td>\n",
       "    </tr>\n",
       "    <tr>\n",
       "      <th>1</th>\n",
       "      <td>44731507</td>\n",
       "      <td>16621</td>\n",
       "      <td>1018</td>\n",
       "      <td>CHEVROLET</td>\n",
       "      <td>Equinox</td>\n",
       "      <td>2011</td>\n",
       "      <td>Jeep</td>\n",
       "      <td>No</td>\n",
       "      <td>Petrol</td>\n",
       "      <td>3</td>\n",
       "      <td>192000 km</td>\n",
       "      <td>6.0</td>\n",
       "      <td>Tiptronic</td>\n",
       "      <td>4x4</td>\n",
       "      <td>04-May</td>\n",
       "      <td>Left wheel</td>\n",
       "      <td>Black</td>\n",
       "      <td>8</td>\n",
       "    </tr>\n",
       "    <tr>\n",
       "      <th>2</th>\n",
       "      <td>45774419</td>\n",
       "      <td>8467</td>\n",
       "      <td>-</td>\n",
       "      <td>HONDA</td>\n",
       "      <td>FIT</td>\n",
       "      <td>2006</td>\n",
       "      <td>Hatchback</td>\n",
       "      <td>No</td>\n",
       "      <td>Petrol</td>\n",
       "      <td>1.3</td>\n",
       "      <td>200000 km</td>\n",
       "      <td>4.0</td>\n",
       "      <td>Variator</td>\n",
       "      <td>Front</td>\n",
       "      <td>04-May</td>\n",
       "      <td>Right-hand drive</td>\n",
       "      <td>Black</td>\n",
       "      <td>2</td>\n",
       "    </tr>\n",
       "    <tr>\n",
       "      <th>3</th>\n",
       "      <td>45769185</td>\n",
       "      <td>3607</td>\n",
       "      <td>862</td>\n",
       "      <td>FORD</td>\n",
       "      <td>Escape</td>\n",
       "      <td>2011</td>\n",
       "      <td>Jeep</td>\n",
       "      <td>Yes</td>\n",
       "      <td>Hybrid</td>\n",
       "      <td>2.5</td>\n",
       "      <td>168966 km</td>\n",
       "      <td>4.0</td>\n",
       "      <td>Automatic</td>\n",
       "      <td>4x4</td>\n",
       "      <td>04-May</td>\n",
       "      <td>Left wheel</td>\n",
       "      <td>White</td>\n",
       "      <td>0</td>\n",
       "    </tr>\n",
       "    <tr>\n",
       "      <th>4</th>\n",
       "      <td>45809263</td>\n",
       "      <td>11726</td>\n",
       "      <td>446</td>\n",
       "      <td>HONDA</td>\n",
       "      <td>FIT</td>\n",
       "      <td>2014</td>\n",
       "      <td>Hatchback</td>\n",
       "      <td>Yes</td>\n",
       "      <td>Petrol</td>\n",
       "      <td>1.3</td>\n",
       "      <td>91901 km</td>\n",
       "      <td>4.0</td>\n",
       "      <td>Automatic</td>\n",
       "      <td>Front</td>\n",
       "      <td>04-May</td>\n",
       "      <td>Left wheel</td>\n",
       "      <td>Silver</td>\n",
       "      <td>4</td>\n",
       "    </tr>\n",
       "  </tbody>\n",
       "</table>\n",
       "</div>"
      ],
      "text/plain": [
       "         ID  Price  Levy Manufacturer    Model  Prod. year   Category  \\\n",
       "0  45654403  13328  1399        LEXUS   RX 450        2010       Jeep   \n",
       "1  44731507  16621  1018    CHEVROLET  Equinox        2011       Jeep   \n",
       "2  45774419   8467     -        HONDA      FIT        2006  Hatchback   \n",
       "3  45769185   3607   862         FORD   Escape        2011       Jeep   \n",
       "4  45809263  11726   446        HONDA      FIT        2014  Hatchback   \n",
       "\n",
       "  Leather interior Fuel type Engine volume    Mileage  Cylinders  \\\n",
       "0              Yes    Hybrid           3.5  186005 km        6.0   \n",
       "1               No    Petrol             3  192000 km        6.0   \n",
       "2               No    Petrol           1.3  200000 km        4.0   \n",
       "3              Yes    Hybrid           2.5  168966 km        4.0   \n",
       "4              Yes    Petrol           1.3   91901 km        4.0   \n",
       "\n",
       "  Gear box type Drive wheels   Doors             Wheel   Color  Airbags  \n",
       "0     Automatic          4x4  04-May        Left wheel  Silver       12  \n",
       "1     Tiptronic          4x4  04-May        Left wheel   Black        8  \n",
       "2      Variator        Front  04-May  Right-hand drive   Black        2  \n",
       "3     Automatic          4x4  04-May        Left wheel   White        0  \n",
       "4     Automatic        Front  04-May        Left wheel  Silver        4  "
      ]
     },
     "execution_count": 2,
     "metadata": {},
     "output_type": "execute_result"
    }
   ],
   "source": [
    "df = pd.read_csv(\"car_price_prediction.csv\")\n",
    "df.head()"
   ]
  },
  {
   "cell_type": "code",
   "execution_count": 3,
   "id": "a8be01d4",
   "metadata": {},
   "outputs": [
    {
     "data": {
      "text/plain": [
       "ID                    int64\n",
       "Price                 int64\n",
       "Levy                 object\n",
       "Manufacturer         object\n",
       "Model                object\n",
       "Prod. year            int64\n",
       "Category             object\n",
       "Leather interior     object\n",
       "Fuel type            object\n",
       "Engine volume        object\n",
       "Mileage              object\n",
       "Cylinders           float64\n",
       "Gear box type        object\n",
       "Drive wheels         object\n",
       "Doors                object\n",
       "Wheel                object\n",
       "Color                object\n",
       "Airbags               int64\n",
       "dtype: object"
      ]
     },
     "execution_count": 3,
     "metadata": {},
     "output_type": "execute_result"
    }
   ],
   "source": [
    "df.dtypes"
   ]
  },
  {
   "cell_type": "code",
   "execution_count": 4,
   "id": "35846811",
   "metadata": {},
   "outputs": [
    {
     "data": {
      "text/html": [
       "<div>\n",
       "<style scoped>\n",
       "    .dataframe tbody tr th:only-of-type {\n",
       "        vertical-align: middle;\n",
       "    }\n",
       "\n",
       "    .dataframe tbody tr th {\n",
       "        vertical-align: top;\n",
       "    }\n",
       "\n",
       "    .dataframe thead th {\n",
       "        text-align: right;\n",
       "    }\n",
       "</style>\n",
       "<table border=\"1\" class=\"dataframe\">\n",
       "  <thead>\n",
       "    <tr style=\"text-align: right;\">\n",
       "      <th></th>\n",
       "      <th>ID</th>\n",
       "      <th>Price</th>\n",
       "      <th>Prod. year</th>\n",
       "      <th>Cylinders</th>\n",
       "      <th>Airbags</th>\n",
       "    </tr>\n",
       "  </thead>\n",
       "  <tbody>\n",
       "    <tr>\n",
       "      <th>count</th>\n",
       "      <td>1.923700e+04</td>\n",
       "      <td>1.923700e+04</td>\n",
       "      <td>19237.000000</td>\n",
       "      <td>19237.000000</td>\n",
       "      <td>19237.000000</td>\n",
       "    </tr>\n",
       "    <tr>\n",
       "      <th>mean</th>\n",
       "      <td>4.557654e+07</td>\n",
       "      <td>1.855593e+04</td>\n",
       "      <td>2010.912824</td>\n",
       "      <td>4.582991</td>\n",
       "      <td>6.582627</td>\n",
       "    </tr>\n",
       "    <tr>\n",
       "      <th>std</th>\n",
       "      <td>9.365914e+05</td>\n",
       "      <td>1.905813e+05</td>\n",
       "      <td>5.668673</td>\n",
       "      <td>1.199933</td>\n",
       "      <td>4.320168</td>\n",
       "    </tr>\n",
       "    <tr>\n",
       "      <th>min</th>\n",
       "      <td>2.074688e+07</td>\n",
       "      <td>1.000000e+00</td>\n",
       "      <td>1939.000000</td>\n",
       "      <td>1.000000</td>\n",
       "      <td>0.000000</td>\n",
       "    </tr>\n",
       "    <tr>\n",
       "      <th>25%</th>\n",
       "      <td>4.569837e+07</td>\n",
       "      <td>5.331000e+03</td>\n",
       "      <td>2009.000000</td>\n",
       "      <td>4.000000</td>\n",
       "      <td>4.000000</td>\n",
       "    </tr>\n",
       "    <tr>\n",
       "      <th>50%</th>\n",
       "      <td>4.577231e+07</td>\n",
       "      <td>1.317200e+04</td>\n",
       "      <td>2012.000000</td>\n",
       "      <td>4.000000</td>\n",
       "      <td>6.000000</td>\n",
       "    </tr>\n",
       "    <tr>\n",
       "      <th>75%</th>\n",
       "      <td>4.580204e+07</td>\n",
       "      <td>2.207500e+04</td>\n",
       "      <td>2015.000000</td>\n",
       "      <td>4.000000</td>\n",
       "      <td>12.000000</td>\n",
       "    </tr>\n",
       "    <tr>\n",
       "      <th>max</th>\n",
       "      <td>4.581665e+07</td>\n",
       "      <td>2.630750e+07</td>\n",
       "      <td>2020.000000</td>\n",
       "      <td>16.000000</td>\n",
       "      <td>16.000000</td>\n",
       "    </tr>\n",
       "  </tbody>\n",
       "</table>\n",
       "</div>"
      ],
      "text/plain": [
       "                 ID         Price    Prod. year     Cylinders       Airbags\n",
       "count  1.923700e+04  1.923700e+04  19237.000000  19237.000000  19237.000000\n",
       "mean   4.557654e+07  1.855593e+04   2010.912824      4.582991      6.582627\n",
       "std    9.365914e+05  1.905813e+05      5.668673      1.199933      4.320168\n",
       "min    2.074688e+07  1.000000e+00   1939.000000      1.000000      0.000000\n",
       "25%    4.569837e+07  5.331000e+03   2009.000000      4.000000      4.000000\n",
       "50%    4.577231e+07  1.317200e+04   2012.000000      4.000000      6.000000\n",
       "75%    4.580204e+07  2.207500e+04   2015.000000      4.000000     12.000000\n",
       "max    4.581665e+07  2.630750e+07   2020.000000     16.000000     16.000000"
      ]
     },
     "execution_count": 4,
     "metadata": {},
     "output_type": "execute_result"
    }
   ],
   "source": [
    "df.describe()"
   ]
  },
  {
   "cell_type": "markdown",
   "id": "d0453aa7",
   "metadata": {},
   "source": [
    "## 2. Analyse Exploratoire et Visualisation des données"
   ]
  },
  {
   "cell_type": "code",
   "execution_count": 5,
   "id": "0a5e46c7",
   "metadata": {},
   "outputs": [
    {
     "data": {
      "text/plain": [
       "array([13328, 16621,  8467, ..., 56814, 63886, 22075])"
      ]
     },
     "execution_count": 5,
     "metadata": {},
     "output_type": "execute_result"
    }
   ],
   "source": [
    "df['Price'].unique()"
   ]
  },
  {
   "cell_type": "code",
   "execution_count": 6,
   "id": "c8c9be58",
   "metadata": {},
   "outputs": [],
   "source": [
    "import matplotlib.pyplot as plt\n",
    "import seaborn as sns\n",
    "\n"
   ]
  },
  {
   "cell_type": "code",
   "execution_count": null,
   "id": "e112aa7f",
   "metadata": {},
   "outputs": [],
   "source": [
    "plt.hist(df[\"Price\"])\n",
    "# Afficher le graphique\n",
    "plt.show()"
   ]
  },
  {
   "cell_type": "code",
   "execution_count": null,
   "id": "d0c49f7a",
   "metadata": {},
   "outputs": [],
   "source": [
    "# on convertit les features en une liste de columns\n",
    "columns = df.columns.tolist()\n",
    "columns"
   ]
  },
  {
   "cell_type": "code",
   "execution_count": null,
   "id": "64eb6761",
   "metadata": {},
   "outputs": [],
   "source": [
    "plt.figure(figsize=(16,38))\n",
    "\n",
    "for i, col in enumerate(columns, 1):\n",
    "    plt.subplot(8,4,i)\n",
    "    sns.kdeplot(df[col], color = '#d1aa00', fill = True, warn_singular=False)\n",
    "    plt.subplot(8,4,i+11)\n",
    "    df[col].plot.box()\n",
    "plt.tight_layout()\n",
    "plt.show()\n"
   ]
  },
  {
   "cell_type": "markdown",
   "id": "de6ba49d",
   "metadata": {},
   "source": [
    "## 3. Traitement des Valeurs abbérrantes\n",
    "\n",
    "Vérifions si notre dataset ne comporte pas de  valeurs nulles"
   ]
  },
  {
   "cell_type": "code",
   "execution_count": null,
   "id": "a1603789",
   "metadata": {},
   "outputs": [],
   "source": [
    " df.isnull().sum()"
   ]
  },
  {
   "cell_type": "markdown",
   "id": "e266191c",
   "metadata": {},
   "source": [
    "Donc il n'ya pas de valeur nulle. Vérifions s'il existe de NaN."
   ]
  },
  {
   "cell_type": "code",
   "execution_count": null,
   "id": "bfa51c8a",
   "metadata": {},
   "outputs": [],
   "source": [
    " df.isna().sum()"
   ]
  },
  {
   "cell_type": "markdown",
   "id": "40cf64f3",
   "metadata": {},
   "source": [
    "Aucune valeur NaN non plus. Assurons-nous une fois qu'il n'ya pas de valeurs dupliquées.   "
   ]
  },
  {
   "cell_type": "code",
   "execution_count": null,
   "id": "7c4eee84",
   "metadata": {},
   "outputs": [],
   "source": [
    "df.duplicated()"
   ]
  },
  {
   "cell_type": "markdown",
   "id": "f91f6254",
   "metadata": {},
   "source": [
    "Le resultat nous montre qu'il ya aucune valeur dupliquée. Notre dataset est propre pour faire la prédiction/Classification"
   ]
  },
  {
   "cell_type": "markdown",
   "id": "5d34e01c",
   "metadata": {},
   "source": [
    "Faisons le test de skewness et kurtosis pour voir les valeurs disparates ( outliers)"
   ]
  },
  {
   "cell_type": "code",
   "execution_count": null,
   "id": "054089ed",
   "metadata": {},
   "outputs": [],
   "source": [
    "df.head()"
   ]
  },
  {
   "cell_type": "code",
   "execution_count": null,
   "id": "3ad3528c",
   "metadata": {},
   "outputs": [],
   "source": [
    "(df['Levy']=='-').sum()\n"
   ]
  },
  {
   "cell_type": "code",
   "execution_count": null,
   "id": "5804d43e",
   "metadata": {},
   "outputs": [],
   "source": [
    "df['Gear box type'].unique()"
   ]
  },
  {
   "cell_type": "code",
   "execution_count": null,
   "id": "b9091b73",
   "metadata": {},
   "outputs": [],
   "source": [
    "def toFloat(x):\n",
    "    flt = float(x)\n",
    "    return flt\n",
    "\n",
    "def removeKm(x):\n",
    "    x = x[:-3]\n",
    "    return toFloat(x)\n",
    "\n",
    "df.replace({'':np.nan}, inplace = True)\n",
    "\n",
    "# remplacer le km en float\n",
    "\n",
    "df['Mileage'] = df['Mileage'].map(lambda x:removeKm(x) )\n",
    "\n",
    "# transformer le price en float\n",
    "\n",
    "df['Price'] = df['Price'].map(lambda x:toFloat(x) )\n",
    "\n",
    "# transformer l'année en float\n",
    "\n",
    "df['Prod. year'] = df['Prod. year'].map(lambda x:toFloat(x) )\n",
    "\n"
   ]
  },
  {
   "cell_type": "markdown",
   "id": "285f2edf",
   "metadata": {},
   "source": [
    "Donnons un identifiant à chaque caractère de de certains features\n"
   ]
  },
  {
   "cell_type": "markdown",
   "id": "8f50219c",
   "metadata": {},
   "source": [
    "Convertissons nos tableaux en dictionnaire afin d'avoir le couple __clé-valeur__."
   ]
  },
  {
   "cell_type": "markdown",
   "id": "48c8627e",
   "metadata": {},
   "source": [
    "__Cas du feature Model__:"
   ]
  },
  {
   "cell_type": "code",
   "execution_count": null,
   "id": "c1ecf5c0",
   "metadata": {},
   "outputs": [],
   "source": [
    "my_array_model = df['Model'].unique()\n",
    "my_array_model"
   ]
  },
  {
   "cell_type": "code",
   "execution_count": null,
   "id": "17a9d008",
   "metadata": {},
   "outputs": [],
   "source": [
    "my_dict_model = {}\n",
    "for i ,x in enumerate(my_array_model):\n",
    "    variable = {x:i+1}\n",
    "    my_dict_model.update(variable)\n",
    "    "
   ]
  },
  {
   "cell_type": "markdown",
   "id": "3c5b30a2",
   "metadata": {},
   "source": [
    "__Cas du feature Manufacturer__:"
   ]
  },
  {
   "cell_type": "code",
   "execution_count": null,
   "id": "5be7b6ac",
   "metadata": {},
   "outputs": [],
   "source": [
    "my_array_levy = df['Levy'].unique()\n"
   ]
  },
  {
   "cell_type": "code",
   "execution_count": null,
   "id": "b64b0163",
   "metadata": {},
   "outputs": [],
   "source": [
    "my_dict_levy = {}\n",
    "for i ,x in enumerate(my_array_levy):\n",
    "    variable = {x:i+1}\n",
    "    my_dict_levy.update(variable)\n",
    "    "
   ]
  },
  {
   "cell_type": "markdown",
   "id": "0a221523",
   "metadata": {},
   "source": [
    "__Cas du feature Manufacturer__:"
   ]
  },
  {
   "cell_type": "code",
   "execution_count": null,
   "id": "2e6bc7a6",
   "metadata": {},
   "outputs": [],
   "source": [
    "my_array_manufacturer = df['Manufacturer'].unique()\n"
   ]
  },
  {
   "cell_type": "code",
   "execution_count": null,
   "id": "e49f521d",
   "metadata": {},
   "outputs": [],
   "source": [
    "my_dict_manufacturer = {}\n",
    "for i ,x in enumerate(my_array_manufacturer):\n",
    "    variable = {x:i+1}\n",
    "    my_dict_manufacturer.update(variable)\n",
    "    "
   ]
  },
  {
   "cell_type": "markdown",
   "id": "29a33ab7",
   "metadata": {},
   "source": [
    "__Cas du feature Category__:"
   ]
  },
  {
   "cell_type": "code",
   "execution_count": null,
   "id": "60194ae6",
   "metadata": {},
   "outputs": [],
   "source": [
    "my_array_category = df['Category'].unique()\n",
    "my_array_category"
   ]
  },
  {
   "cell_type": "code",
   "execution_count": null,
   "id": "f4b5e287",
   "metadata": {},
   "outputs": [],
   "source": [
    "my_dict_category = {}\n",
    "for i ,x in enumerate(my_array_category):\n",
    "    variable = {x:i+1}\n",
    "    my_dict_category.update(variable)\n",
    "print(my_dict_category)"
   ]
  },
  {
   "cell_type": "markdown",
   "id": "3541e467",
   "metadata": {},
   "source": [
    "__Cas du feature Leather interior__:"
   ]
  },
  {
   "cell_type": "code",
   "execution_count": null,
   "id": "0ba8c9a5",
   "metadata": {},
   "outputs": [],
   "source": [
    "my_array_leather = df['Leather interior'].unique()\n",
    "my_array_leather"
   ]
  },
  {
   "cell_type": "code",
   "execution_count": null,
   "id": "2f510eeb",
   "metadata": {},
   "outputs": [],
   "source": [
    "my_dict_leather = {}\n",
    "for i ,x in enumerate(my_array_leather):\n",
    "    variable = {x:i+1}\n",
    "    my_dict_leather.update(variable)\n",
    "print(my_dict_leather)"
   ]
  },
  {
   "cell_type": "markdown",
   "id": "1fb6d053",
   "metadata": {},
   "source": [
    "__Cas du feature Fuel type__:"
   ]
  },
  {
   "cell_type": "code",
   "execution_count": null,
   "id": "bf343d44",
   "metadata": {},
   "outputs": [],
   "source": [
    "my_array_fuel = df['Fuel type'].unique()\n",
    "my_array_fuel"
   ]
  },
  {
   "cell_type": "code",
   "execution_count": null,
   "id": "218fe4de",
   "metadata": {},
   "outputs": [],
   "source": [
    "my_dict_fuel = {}\n",
    "for i ,x in enumerate(my_array_fuel):\n",
    "    variable = {x:i+1}\n",
    "    my_dict_fuel.update(variable)\n",
    "print(my_dict_fuel)"
   ]
  },
  {
   "cell_type": "markdown",
   "id": "7af90b0b",
   "metadata": {},
   "source": [
    "__Cas du feature Engine volume__:"
   ]
  },
  {
   "cell_type": "code",
   "execution_count": null,
   "id": "b2a5491a",
   "metadata": {},
   "outputs": [],
   "source": [
    "my_array_engine = df['Engine volume'].unique()"
   ]
  },
  {
   "cell_type": "code",
   "execution_count": null,
   "id": "324f1fee",
   "metadata": {},
   "outputs": [],
   "source": [
    "my_dict_engine = {}\n",
    "for i ,x in enumerate(my_array_engine):\n",
    "    variable = {x:i+1}\n",
    "    my_dict_engine.update(variable)"
   ]
  },
  {
   "cell_type": "markdown",
   "id": "583ea63b",
   "metadata": {},
   "source": [
    "__Cas du feature Gear box type__:"
   ]
  },
  {
   "cell_type": "code",
   "execution_count": null,
   "id": "204e0816",
   "metadata": {},
   "outputs": [],
   "source": [
    "my_array_gearbox = df['Gear box type'].unique()\n",
    "my_array_gearbox"
   ]
  },
  {
   "cell_type": "code",
   "execution_count": null,
   "id": "9ae8ec08",
   "metadata": {},
   "outputs": [],
   "source": [
    "my_dict_gearbox = {}\n",
    "for i ,x in enumerate(my_array_gearbox):\n",
    "    variable = {x:i+1}\n",
    "    my_dict_gearbox.update(variable)\n",
    "print(my_dict_gearbox)"
   ]
  },
  {
   "cell_type": "markdown",
   "id": "986c6223",
   "metadata": {},
   "source": [
    "__Cas du feature Drive wheels__:"
   ]
  },
  {
   "cell_type": "code",
   "execution_count": null,
   "id": "010a6983",
   "metadata": {},
   "outputs": [],
   "source": [
    "my_array_driverwheel = df['Drive wheels'].unique()\n",
    "my_array_driverwheel"
   ]
  },
  {
   "cell_type": "code",
   "execution_count": null,
   "id": "e99dfef0",
   "metadata": {},
   "outputs": [],
   "source": [
    "my_dict_driverwheel = {}\n",
    "for i ,x in enumerate(my_array_driverwheel):\n",
    "    variable = {x:i+1}\n",
    "    my_dict_driverwheel.update(variable)\n",
    "print(my_dict_driverwheel)"
   ]
  },
  {
   "cell_type": "markdown",
   "id": "06c06c19",
   "metadata": {},
   "source": [
    "__Cas du feature Doors__:"
   ]
  },
  {
   "cell_type": "code",
   "execution_count": null,
   "id": "d402113e",
   "metadata": {},
   "outputs": [],
   "source": [
    "my_array_doors = df['Doors'].unique()\n",
    "my_array_doors"
   ]
  },
  {
   "cell_type": "code",
   "execution_count": null,
   "id": "915da5b4",
   "metadata": {},
   "outputs": [],
   "source": [
    "my_dict_doors = {}\n",
    "for i ,x in enumerate(my_array_doors):\n",
    "    variable = {x:i+1}\n",
    "    my_dict_doors.update(variable)\n",
    "print(my_dict_doors)"
   ]
  },
  {
   "cell_type": "markdown",
   "id": "829e24fa",
   "metadata": {},
   "source": [
    "__Cas du feature Wheel__:"
   ]
  },
  {
   "cell_type": "code",
   "execution_count": null,
   "id": "730fdb5b",
   "metadata": {},
   "outputs": [],
   "source": [
    "my_array_wheel = df['Wheel'].unique()\n",
    "my_array_wheel"
   ]
  },
  {
   "cell_type": "code",
   "execution_count": null,
   "id": "7690e4ee",
   "metadata": {},
   "outputs": [],
   "source": [
    "my_dict_wheel = {}\n",
    "for i ,x in enumerate(my_array_wheel):\n",
    "    variable = {x:i+1}\n",
    "    my_dict_wheel.update(variable)\n",
    "print(my_dict_wheel)"
   ]
  },
  {
   "cell_type": "markdown",
   "id": "2afeb2db",
   "metadata": {},
   "source": [
    "__Cas du feature Color__:"
   ]
  },
  {
   "cell_type": "code",
   "execution_count": null,
   "id": "1cf16e9d",
   "metadata": {},
   "outputs": [],
   "source": [
    "my_array_color = df['Color'].unique()\n",
    "my_array_color"
   ]
  },
  {
   "cell_type": "code",
   "execution_count": null,
   "id": "407cb6d9",
   "metadata": {},
   "outputs": [],
   "source": [
    "my_dict_color = {}\n",
    "for i ,x in enumerate(my_array_color):\n",
    "    variable = {x:i+1}\n",
    "    my_dict_color.update(variable)\n",
    "print(my_dict_color)"
   ]
  },
  {
   "cell_type": "markdown",
   "id": "83b0c58f",
   "metadata": {},
   "source": [
    "Maintenant, remplaçons les valeurs chaque colonnes par celles qui sont dans chaque dictionnaire défini ci-haut."
   ]
  },
  {
   "cell_type": "code",
   "execution_count": null,
   "id": "78c162f9",
   "metadata": {},
   "outputs": [],
   "source": [
    "df['Manufacturer'] = df['Manufacturer'].map(my_dict_manufacturer)\n",
    "df['Levy'] = df['Levy'].map(my_dict_levy)\n",
    "df['Model'] = df['Model'].map(my_dict_model)\n",
    "df['Category'] = df['Category'].map(my_dict_category)\n",
    "df['Leather interior'] = df['Leather interior'].map(my_dict_leather)\n",
    "df['Fuel type'] = df['Fuel type'].map(my_dict_fuel)\n",
    "df['Engine volume'] = df['Engine volume'].map(my_dict_engine)\n",
    "df['Gear box type'] = df['Gear box type'].map(my_dict_gearbox)\n",
    "df['Drive wheels'] = df['Drive wheels'].map(my_dict_driverwheel)\n",
    "df['Doors'] = df['Doors'].map(my_dict_doors)\n",
    "df['Wheel'] = df['Wheel'].map(my_dict_wheel)\n",
    "df['Color'] = df['Color'].map(my_dict_color)\n",
    "df['Prod. year'] = df['Prod. year'].map(lambda x : toFloat(x))"
   ]
  },
  {
   "cell_type": "code",
   "execution_count": null,
   "id": "cafca15d",
   "metadata": {},
   "outputs": [],
   "source": [
    "df.head()"
   ]
  },
  {
   "cell_type": "code",
   "execution_count": null,
   "id": "6b53fde2",
   "metadata": {},
   "outputs": [],
   "source": [
    "df.dtypes"
   ]
  },
  {
   "cell_type": "markdown",
   "id": "90ecda54",
   "metadata": {},
   "source": [
    "Supprimons la colonne ID"
   ]
  },
  {
   "cell_type": "code",
   "execution_count": null,
   "id": "155402bc",
   "metadata": {},
   "outputs": [],
   "source": [
    "df.drop('ID', inplace=True, axis=1)"
   ]
  },
  {
   "cell_type": "markdown",
   "id": "4387a6c7",
   "metadata": {},
   "source": [
    "De ce fait ,nous pouvons le vérifier dans la liste de colonnes ci-dessous."
   ]
  },
  {
   "cell_type": "code",
   "execution_count": null,
   "id": "8450268d",
   "metadata": {},
   "outputs": [],
   "source": [
    "columns = df.columns.tolist()\n",
    "columns"
   ]
  },
  {
   "cell_type": "code",
   "execution_count": null,
   "id": "1ab19281",
   "metadata": {},
   "outputs": [],
   "source": [
    "plt.figure(figsize=(16,38))\n",
    "\n",
    "for i, col in enumerate(columns, 1):\n",
    "    plt.subplot(8,4,i)\n",
    "    sns.kdeplot(df[col], color = '#d1aa00', fill = True, warn_singular=False)\n",
    "    plt.subplot(8,4,i+11)\n",
    "    df[col].plot.box()\n",
    "plt.tight_layout()\n",
    "plt.show()\n"
   ]
  },
  {
   "cell_type": "code",
   "execution_count": null,
   "id": "96a30a4e",
   "metadata": {
    "scrolled": true
   },
   "outputs": [],
   "source": [
    "pd.DataFrame(data=[df[columns].skew(),df[columns].kurtosis()],index=['skewness','kurtosis'])"
   ]
  },
  {
   "cell_type": "code",
   "execution_count": null,
   "id": "ea527b24",
   "metadata": {},
   "outputs": [],
   "source": [
    "from scipy.stats import zscore\n",
    "for i in columns:\n",
    "    y_outliers = df[abs(zscore(df[i])) >= 3 ]\n",
    "    print('Le nombre des outliers de ',i,'est ',len(y_outliers))\n",
    "    y_outliers\n",
    "    \n"
   ]
  },
  {
   "cell_type": "code",
   "execution_count": null,
   "id": "98810a3c",
   "metadata": {},
   "outputs": [],
   "source": [
    "df['Price'].describe()"
   ]
  },
  {
   "cell_type": "code",
   "execution_count": null,
   "id": "05fbf0e4",
   "metadata": {},
   "outputs": [],
   "source": [
    "def price_class(Price):\n",
    "    if (Price >=1.000000e+00 and Price<=6576876.0):\n",
    "        return \"Moins Chèr\"\n",
    "    elif (Price > 6576876.0 and Price<=13153751.0):\n",
    "        return \"Moyenne\"\n",
    "    elif (Price >13153751.0  and Price<=19730626.0):\n",
    "        return \"Chèr\"\n",
    "    else:\n",
    "        return \"Très Chèr\"\n",
    "\n",
    "df['Classe'] = df['Price'].apply(price_class)\n",
    "df.sample(frac=1).head(5)"
   ]
  },
  {
   "cell_type": "code",
   "execution_count": null,
   "id": "9146e17f",
   "metadata": {},
   "outputs": [],
   "source": []
  },
  {
   "cell_type": "markdown",
   "id": "8cc313a8",
   "metadata": {},
   "source": [
    "Supprimons certaines colonnes ."
   ]
  },
  {
   "cell_type": "code",
   "execution_count": null,
   "id": "a220e755",
   "metadata": {},
   "outputs": [],
   "source": [
    "df.drop('Doors', inplace=True, axis=1)\n",
    "df.drop('Wheel', inplace=True, axis=1)\n",
    "df.drop('Leather interior', inplace=True, axis=1)\n",
    "df.drop('Levy', inplace=True, axis=1)"
   ]
  },
  {
   "cell_type": "code",
   "execution_count": null,
   "id": "591c9af2",
   "metadata": {},
   "outputs": [],
   "source": [
    "columns = df.columns.tolist()\n",
    "columns"
   ]
  },
  {
   "cell_type": "code",
   "execution_count": null,
   "id": "6e3f4b01",
   "metadata": {},
   "outputs": [],
   "source": [
    "df.dropna()"
   ]
  },
  {
   "cell_type": "code",
   "execution_count": null,
   "id": "34eacc7f",
   "metadata": {},
   "outputs": [],
   "source": [
    "df.drop_duplicates()"
   ]
  },
  {
   "cell_type": "code",
   "execution_count": null,
   "id": "1a3faf35",
   "metadata": {
    "scrolled": true
   },
   "outputs": [],
   "source": [
    "df['Classe'].where(df['Classe']==\"Chèr\")"
   ]
  },
  {
   "cell_type": "code",
   "execution_count": null,
   "id": "dbb42889",
   "metadata": {},
   "outputs": [],
   "source": [
    "import seaborn as sns\n",
    "sns.heatmap(df.corr(), annot=True, cmap='coolwarm')"
   ]
  },
  {
   "cell_type": "code",
   "execution_count": null,
   "id": "1aa936a3",
   "metadata": {},
   "outputs": [],
   "source": []
  }
 ],
 "metadata": {
  "kernelspec": {
   "display_name": "Python 3 (ipykernel)",
   "language": "python",
   "name": "python3"
  },
  "language_info": {
   "codemirror_mode": {
    "name": "ipython",
    "version": 3
   },
   "file_extension": ".py",
   "mimetype": "text/x-python",
   "name": "python",
   "nbconvert_exporter": "python",
   "pygments_lexer": "ipython3",
   "version": "3.10.9"
  }
 },
 "nbformat": 4,
 "nbformat_minor": 5
}
